{
 "cells": [
  {
   "cell_type": "code",
   "execution_count": 1,
   "id": "5f5e468b",
   "metadata": {},
   "outputs": [],
   "source": [
    "import sklearn\n",
    "import pandas as pd\n",
    "import numpy as np\n",
    "%matplotlib inline\n",
    "import matplotlib.pyplot as plt\n",
    "import seaborn as sns\n",
    "from sklearn.model_selection import train_test_split\n",
    "from sklearn import tree\n",
    "from sklearn.preprocessing import MinMaxScaler, OrdinalEncoder\n",
    "from sklearn.model_selection import train_test_split\n",
    "from sklearn.metrics import accuracy_score, zero_one_loss, classification_report, confusion_matrix, \\\n",
    "precision_score, recall_score, f1_score, plot_roc_curve,plot_confusion_matrix\n",
    "from sklearn.model_selection import GridSearchCV, cross_val_score, validation_curve\n",
    "import matplotlib.pyplot as plt\n",
    "from sklearn.preprocessing import LabelEncoder\n",
    "from sklearn.ensemble import RandomForestClassifier"
   ]
  },
  {
   "cell_type": "code",
   "execution_count": 2,
   "id": "f3113795",
   "metadata": {},
   "outputs": [],
   "source": [
    "ESRB_df = pd.read_csv(\"Video_games_esrb_rating.csv\")"
   ]
  },
  {
   "cell_type": "code",
   "execution_count": 3,
   "id": "ec43a449",
   "metadata": {},
   "outputs": [
    {
     "data": {
      "text/html": [
       "<div>\n",
       "<style scoped>\n",
       "    .dataframe tbody tr th:only-of-type {\n",
       "        vertical-align: middle;\n",
       "    }\n",
       "\n",
       "    .dataframe tbody tr th {\n",
       "        vertical-align: top;\n",
       "    }\n",
       "\n",
       "    .dataframe thead th {\n",
       "        text-align: right;\n",
       "    }\n",
       "</style>\n",
       "<table border=\"1\" class=\"dataframe\">\n",
       "  <thead>\n",
       "    <tr style=\"text-align: right;\">\n",
       "      <th></th>\n",
       "      <th>title</th>\n",
       "      <th>console</th>\n",
       "      <th>alcohol_reference</th>\n",
       "      <th>animated_blood</th>\n",
       "      <th>blood</th>\n",
       "      <th>blood_and_gore</th>\n",
       "      <th>cartoon_violence</th>\n",
       "      <th>crude_humor</th>\n",
       "      <th>drug_reference</th>\n",
       "      <th>fantasy_violence</th>\n",
       "      <th>...</th>\n",
       "      <th>sexual_content</th>\n",
       "      <th>sexual_themes</th>\n",
       "      <th>simulated_gambling</th>\n",
       "      <th>strong_janguage</th>\n",
       "      <th>strong_sexual_content</th>\n",
       "      <th>suggestive_themes</th>\n",
       "      <th>use_of_alcohol</th>\n",
       "      <th>use_of_drugs_and_alcohol</th>\n",
       "      <th>violence</th>\n",
       "      <th>esrb_rating</th>\n",
       "    </tr>\n",
       "  </thead>\n",
       "  <tbody>\n",
       "    <tr>\n",
       "      <th>0</th>\n",
       "      <td>Monster Jam Steel Titans 2</td>\n",
       "      <td>1</td>\n",
       "      <td>0</td>\n",
       "      <td>0</td>\n",
       "      <td>0</td>\n",
       "      <td>0</td>\n",
       "      <td>0</td>\n",
       "      <td>0</td>\n",
       "      <td>0</td>\n",
       "      <td>0</td>\n",
       "      <td>...</td>\n",
       "      <td>0</td>\n",
       "      <td>0</td>\n",
       "      <td>0</td>\n",
       "      <td>0</td>\n",
       "      <td>0</td>\n",
       "      <td>0</td>\n",
       "      <td>0</td>\n",
       "      <td>0</td>\n",
       "      <td>0</td>\n",
       "      <td>E</td>\n",
       "    </tr>\n",
       "    <tr>\n",
       "      <th>1</th>\n",
       "      <td>Subnautica: Below Zero</td>\n",
       "      <td>1</td>\n",
       "      <td>0</td>\n",
       "      <td>1</td>\n",
       "      <td>0</td>\n",
       "      <td>0</td>\n",
       "      <td>0</td>\n",
       "      <td>0</td>\n",
       "      <td>0</td>\n",
       "      <td>0</td>\n",
       "      <td>...</td>\n",
       "      <td>0</td>\n",
       "      <td>0</td>\n",
       "      <td>0</td>\n",
       "      <td>0</td>\n",
       "      <td>0</td>\n",
       "      <td>0</td>\n",
       "      <td>0</td>\n",
       "      <td>0</td>\n",
       "      <td>0</td>\n",
       "      <td>ET</td>\n",
       "    </tr>\n",
       "    <tr>\n",
       "      <th>2</th>\n",
       "      <td>NIER REPLICANT VER.1.22474487139…</td>\n",
       "      <td>1</td>\n",
       "      <td>0</td>\n",
       "      <td>0</td>\n",
       "      <td>1</td>\n",
       "      <td>0</td>\n",
       "      <td>0</td>\n",
       "      <td>0</td>\n",
       "      <td>0</td>\n",
       "      <td>0</td>\n",
       "      <td>...</td>\n",
       "      <td>0</td>\n",
       "      <td>0</td>\n",
       "      <td>0</td>\n",
       "      <td>1</td>\n",
       "      <td>0</td>\n",
       "      <td>1</td>\n",
       "      <td>0</td>\n",
       "      <td>0</td>\n",
       "      <td>0</td>\n",
       "      <td>M</td>\n",
       "    </tr>\n",
       "    <tr>\n",
       "      <th>3</th>\n",
       "      <td>Jamestown+</td>\n",
       "      <td>0</td>\n",
       "      <td>0</td>\n",
       "      <td>0</td>\n",
       "      <td>0</td>\n",
       "      <td>0</td>\n",
       "      <td>0</td>\n",
       "      <td>0</td>\n",
       "      <td>0</td>\n",
       "      <td>1</td>\n",
       "      <td>...</td>\n",
       "      <td>0</td>\n",
       "      <td>0</td>\n",
       "      <td>0</td>\n",
       "      <td>0</td>\n",
       "      <td>0</td>\n",
       "      <td>0</td>\n",
       "      <td>0</td>\n",
       "      <td>0</td>\n",
       "      <td>0</td>\n",
       "      <td>ET</td>\n",
       "    </tr>\n",
       "    <tr>\n",
       "      <th>4</th>\n",
       "      <td>Neptunia Virtual Stars</td>\n",
       "      <td>0</td>\n",
       "      <td>0</td>\n",
       "      <td>0</td>\n",
       "      <td>0</td>\n",
       "      <td>0</td>\n",
       "      <td>0</td>\n",
       "      <td>0</td>\n",
       "      <td>0</td>\n",
       "      <td>1</td>\n",
       "      <td>...</td>\n",
       "      <td>0</td>\n",
       "      <td>0</td>\n",
       "      <td>0</td>\n",
       "      <td>0</td>\n",
       "      <td>0</td>\n",
       "      <td>1</td>\n",
       "      <td>0</td>\n",
       "      <td>0</td>\n",
       "      <td>0</td>\n",
       "      <td>T</td>\n",
       "    </tr>\n",
       "  </tbody>\n",
       "</table>\n",
       "<p>5 rows × 34 columns</p>\n",
       "</div>"
      ],
      "text/plain": [
       "                               title  console  alcohol_reference  \\\n",
       "0         Monster Jam Steel Titans 2        1                  0   \n",
       "1             Subnautica: Below Zero        1                  0   \n",
       "2  NIER REPLICANT VER.1.22474487139…        1                  0   \n",
       "3                         Jamestown+        0                  0   \n",
       "4             Neptunia Virtual Stars        0                  0   \n",
       "\n",
       "   animated_blood  blood  blood_and_gore  cartoon_violence  crude_humor  \\\n",
       "0               0      0               0                 0            0   \n",
       "1               1      0               0                 0            0   \n",
       "2               0      1               0                 0            0   \n",
       "3               0      0               0                 0            0   \n",
       "4               0      0               0                 0            0   \n",
       "\n",
       "   drug_reference  fantasy_violence  ...  sexual_content  sexual_themes  \\\n",
       "0               0                 0  ...               0              0   \n",
       "1               0                 0  ...               0              0   \n",
       "2               0                 0  ...               0              0   \n",
       "3               0                 1  ...               0              0   \n",
       "4               0                 1  ...               0              0   \n",
       "\n",
       "   simulated_gambling  strong_janguage  strong_sexual_content  \\\n",
       "0                   0                0                      0   \n",
       "1                   0                0                      0   \n",
       "2                   0                1                      0   \n",
       "3                   0                0                      0   \n",
       "4                   0                0                      0   \n",
       "\n",
       "   suggestive_themes  use_of_alcohol  use_of_drugs_and_alcohol  violence  \\\n",
       "0                  0               0                         0         0   \n",
       "1                  0               0                         0         0   \n",
       "2                  1               0                         0         0   \n",
       "3                  0               0                         0         0   \n",
       "4                  1               0                         0         0   \n",
       "\n",
       "   esrb_rating  \n",
       "0            E  \n",
       "1           ET  \n",
       "2            M  \n",
       "3           ET  \n",
       "4            T  \n",
       "\n",
       "[5 rows x 34 columns]"
      ]
     },
     "execution_count": 3,
     "metadata": {},
     "output_type": "execute_result"
    }
   ],
   "source": [
    "ESRB_df.head()"
   ]
  },
  {
   "cell_type": "code",
   "execution_count": 4,
   "id": "4eb6b81f",
   "metadata": {},
   "outputs": [
    {
     "data": {
      "text/html": [
       "<div>\n",
       "<style scoped>\n",
       "    .dataframe tbody tr th:only-of-type {\n",
       "        vertical-align: middle;\n",
       "    }\n",
       "\n",
       "    .dataframe tbody tr th {\n",
       "        vertical-align: top;\n",
       "    }\n",
       "\n",
       "    .dataframe thead th {\n",
       "        text-align: right;\n",
       "    }\n",
       "</style>\n",
       "<table border=\"1\" class=\"dataframe\">\n",
       "  <thead>\n",
       "    <tr style=\"text-align: right;\">\n",
       "      <th></th>\n",
       "      <th>title</th>\n",
       "      <th>console</th>\n",
       "      <th>alcohol_reference</th>\n",
       "      <th>animated_blood</th>\n",
       "      <th>blood</th>\n",
       "      <th>blood_and_gore</th>\n",
       "      <th>cartoon_violence</th>\n",
       "      <th>crude_humor</th>\n",
       "      <th>drug_reference</th>\n",
       "      <th>fantasy_violence</th>\n",
       "      <th>...</th>\n",
       "      <th>sexual_content</th>\n",
       "      <th>sexual_themes</th>\n",
       "      <th>simulated_gambling</th>\n",
       "      <th>strong_janguage</th>\n",
       "      <th>strong_sexual_content</th>\n",
       "      <th>suggestive_themes</th>\n",
       "      <th>use_of_alcohol</th>\n",
       "      <th>use_of_drugs_and_alcohol</th>\n",
       "      <th>violence</th>\n",
       "      <th>esrb_rating</th>\n",
       "    </tr>\n",
       "  </thead>\n",
       "  <tbody>\n",
       "    <tr>\n",
       "      <th>1890</th>\n",
       "      <td>SENRAN KAGURA Peach Beach Splash</td>\n",
       "      <td>0</td>\n",
       "      <td>0</td>\n",
       "      <td>0</td>\n",
       "      <td>0</td>\n",
       "      <td>0</td>\n",
       "      <td>0</td>\n",
       "      <td>0</td>\n",
       "      <td>0</td>\n",
       "      <td>1</td>\n",
       "      <td>...</td>\n",
       "      <td>1</td>\n",
       "      <td>1</td>\n",
       "      <td>0</td>\n",
       "      <td>1</td>\n",
       "      <td>0</td>\n",
       "      <td>0</td>\n",
       "      <td>0</td>\n",
       "      <td>0</td>\n",
       "      <td>0</td>\n",
       "      <td>M</td>\n",
       "    </tr>\n",
       "    <tr>\n",
       "      <th>1891</th>\n",
       "      <td>Sneaky Bears</td>\n",
       "      <td>0</td>\n",
       "      <td>0</td>\n",
       "      <td>0</td>\n",
       "      <td>0</td>\n",
       "      <td>0</td>\n",
       "      <td>0</td>\n",
       "      <td>0</td>\n",
       "      <td>0</td>\n",
       "      <td>1</td>\n",
       "      <td>...</td>\n",
       "      <td>0</td>\n",
       "      <td>0</td>\n",
       "      <td>0</td>\n",
       "      <td>0</td>\n",
       "      <td>0</td>\n",
       "      <td>0</td>\n",
       "      <td>0</td>\n",
       "      <td>0</td>\n",
       "      <td>0</td>\n",
       "      <td>T</td>\n",
       "    </tr>\n",
       "    <tr>\n",
       "      <th>1892</th>\n",
       "      <td>SPARC</td>\n",
       "      <td>0</td>\n",
       "      <td>0</td>\n",
       "      <td>0</td>\n",
       "      <td>0</td>\n",
       "      <td>0</td>\n",
       "      <td>0</td>\n",
       "      <td>0</td>\n",
       "      <td>0</td>\n",
       "      <td>0</td>\n",
       "      <td>...</td>\n",
       "      <td>0</td>\n",
       "      <td>0</td>\n",
       "      <td>0</td>\n",
       "      <td>0</td>\n",
       "      <td>0</td>\n",
       "      <td>0</td>\n",
       "      <td>0</td>\n",
       "      <td>0</td>\n",
       "      <td>0</td>\n",
       "      <td>E</td>\n",
       "    </tr>\n",
       "    <tr>\n",
       "      <th>1893</th>\n",
       "      <td>Still Time</td>\n",
       "      <td>0</td>\n",
       "      <td>0</td>\n",
       "      <td>0</td>\n",
       "      <td>1</td>\n",
       "      <td>0</td>\n",
       "      <td>0</td>\n",
       "      <td>0</td>\n",
       "      <td>0</td>\n",
       "      <td>0</td>\n",
       "      <td>...</td>\n",
       "      <td>0</td>\n",
       "      <td>0</td>\n",
       "      <td>0</td>\n",
       "      <td>0</td>\n",
       "      <td>0</td>\n",
       "      <td>0</td>\n",
       "      <td>0</td>\n",
       "      <td>0</td>\n",
       "      <td>0</td>\n",
       "      <td>T</td>\n",
       "    </tr>\n",
       "    <tr>\n",
       "      <th>1894</th>\n",
       "      <td>Surf World Series</td>\n",
       "      <td>1</td>\n",
       "      <td>0</td>\n",
       "      <td>0</td>\n",
       "      <td>0</td>\n",
       "      <td>0</td>\n",
       "      <td>0</td>\n",
       "      <td>0</td>\n",
       "      <td>0</td>\n",
       "      <td>0</td>\n",
       "      <td>...</td>\n",
       "      <td>0</td>\n",
       "      <td>0</td>\n",
       "      <td>0</td>\n",
       "      <td>0</td>\n",
       "      <td>0</td>\n",
       "      <td>0</td>\n",
       "      <td>0</td>\n",
       "      <td>0</td>\n",
       "      <td>0</td>\n",
       "      <td>E</td>\n",
       "    </tr>\n",
       "  </tbody>\n",
       "</table>\n",
       "<p>5 rows × 34 columns</p>\n",
       "</div>"
      ],
      "text/plain": [
       "                                 title  console  alcohol_reference  \\\n",
       "1890  SENRAN KAGURA Peach Beach Splash        0                  0   \n",
       "1891                      Sneaky Bears        0                  0   \n",
       "1892                             SPARC        0                  0   \n",
       "1893                        Still Time        0                  0   \n",
       "1894                 Surf World Series        1                  0   \n",
       "\n",
       "      animated_blood  blood  blood_and_gore  cartoon_violence  crude_humor  \\\n",
       "1890               0      0               0                 0            0   \n",
       "1891               0      0               0                 0            0   \n",
       "1892               0      0               0                 0            0   \n",
       "1893               0      1               0                 0            0   \n",
       "1894               0      0               0                 0            0   \n",
       "\n",
       "      drug_reference  fantasy_violence  ...  sexual_content  sexual_themes  \\\n",
       "1890               0                 1  ...               1              1   \n",
       "1891               0                 1  ...               0              0   \n",
       "1892               0                 0  ...               0              0   \n",
       "1893               0                 0  ...               0              0   \n",
       "1894               0                 0  ...               0              0   \n",
       "\n",
       "      simulated_gambling  strong_janguage  strong_sexual_content  \\\n",
       "1890                   0                1                      0   \n",
       "1891                   0                0                      0   \n",
       "1892                   0                0                      0   \n",
       "1893                   0                0                      0   \n",
       "1894                   0                0                      0   \n",
       "\n",
       "      suggestive_themes  use_of_alcohol  use_of_drugs_and_alcohol  violence  \\\n",
       "1890                  0               0                         0         0   \n",
       "1891                  0               0                         0         0   \n",
       "1892                  0               0                         0         0   \n",
       "1893                  0               0                         0         0   \n",
       "1894                  0               0                         0         0   \n",
       "\n",
       "      esrb_rating  \n",
       "1890            M  \n",
       "1891            T  \n",
       "1892            E  \n",
       "1893            T  \n",
       "1894            E  \n",
       "\n",
       "[5 rows x 34 columns]"
      ]
     },
     "execution_count": 4,
     "metadata": {},
     "output_type": "execute_result"
    }
   ],
   "source": [
    "ESRB_df.tail()"
   ]
  },
  {
   "cell_type": "code",
   "execution_count": 5,
   "id": "1cd0580c",
   "metadata": {},
   "outputs": [
    {
     "name": "stdout",
     "output_type": "stream",
     "text": [
      "<class 'pandas.core.frame.DataFrame'>\n",
      "RangeIndex: 1895 entries, 0 to 1894\n",
      "Data columns (total 34 columns):\n",
      " #   Column                    Non-Null Count  Dtype \n",
      "---  ------                    --------------  ----- \n",
      " 0   title                     1895 non-null   object\n",
      " 1   console                   1895 non-null   int64 \n",
      " 2   alcohol_reference         1895 non-null   int64 \n",
      " 3   animated_blood            1895 non-null   int64 \n",
      " 4   blood                     1895 non-null   int64 \n",
      " 5   blood_and_gore            1895 non-null   int64 \n",
      " 6   cartoon_violence          1895 non-null   int64 \n",
      " 7   crude_humor               1895 non-null   int64 \n",
      " 8   drug_reference            1895 non-null   int64 \n",
      " 9   fantasy_violence          1895 non-null   int64 \n",
      " 10  intense_violence          1895 non-null   int64 \n",
      " 11  language                  1895 non-null   int64 \n",
      " 12  lyrics                    1895 non-null   int64 \n",
      " 13  mature_humor              1895 non-null   int64 \n",
      " 14  mild_blood                1895 non-null   int64 \n",
      " 15  mild_cartoon_violence     1895 non-null   int64 \n",
      " 16  mild_fantasy_violence     1895 non-null   int64 \n",
      " 17  mild_language             1895 non-null   int64 \n",
      " 18  mild_lyrics               1895 non-null   int64 \n",
      " 19  mild_suggestive_themes    1895 non-null   int64 \n",
      " 20  mild_violence             1895 non-null   int64 \n",
      " 21  no_descriptors            1895 non-null   int64 \n",
      " 22  nudity                    1895 non-null   int64 \n",
      " 23  partial_nudity            1895 non-null   int64 \n",
      " 24  sexual_content            1895 non-null   int64 \n",
      " 25  sexual_themes             1895 non-null   int64 \n",
      " 26  simulated_gambling        1895 non-null   int64 \n",
      " 27  strong_janguage           1895 non-null   int64 \n",
      " 28  strong_sexual_content     1895 non-null   int64 \n",
      " 29  suggestive_themes         1895 non-null   int64 \n",
      " 30  use_of_alcohol            1895 non-null   int64 \n",
      " 31  use_of_drugs_and_alcohol  1895 non-null   int64 \n",
      " 32  violence                  1895 non-null   int64 \n",
      " 33  esrb_rating               1895 non-null   object\n",
      "dtypes: int64(32), object(2)\n",
      "memory usage: 503.5+ KB\n"
     ]
    }
   ],
   "source": [
    "ESRB_df.info()"
   ]
  },
  {
   "cell_type": "code",
   "execution_count": 6,
   "id": "dc53df8c",
   "metadata": {},
   "outputs": [
    {
     "data": {
      "text/plain": [
       "title                       0\n",
       "console                     0\n",
       "alcohol_reference           0\n",
       "animated_blood              0\n",
       "blood                       0\n",
       "blood_and_gore              0\n",
       "cartoon_violence            0\n",
       "crude_humor                 0\n",
       "drug_reference              0\n",
       "fantasy_violence            0\n",
       "intense_violence            0\n",
       "language                    0\n",
       "lyrics                      0\n",
       "mature_humor                0\n",
       "mild_blood                  0\n",
       "mild_cartoon_violence       0\n",
       "mild_fantasy_violence       0\n",
       "mild_language               0\n",
       "mild_lyrics                 0\n",
       "mild_suggestive_themes      0\n",
       "mild_violence               0\n",
       "no_descriptors              0\n",
       "nudity                      0\n",
       "partial_nudity              0\n",
       "sexual_content              0\n",
       "sexual_themes               0\n",
       "simulated_gambling          0\n",
       "strong_janguage             0\n",
       "strong_sexual_content       0\n",
       "suggestive_themes           0\n",
       "use_of_alcohol              0\n",
       "use_of_drugs_and_alcohol    0\n",
       "violence                    0\n",
       "esrb_rating                 0\n",
       "dtype: int64"
      ]
     },
     "execution_count": 6,
     "metadata": {},
     "output_type": "execute_result"
    }
   ],
   "source": [
    "ESRB_df.isnull().sum()"
   ]
  },
  {
   "cell_type": "code",
   "execution_count": 7,
   "id": "1605b197",
   "metadata": {},
   "outputs": [
    {
     "data": {
      "text/plain": [
       "322"
      ]
     },
     "execution_count": 7,
     "metadata": {},
     "output_type": "execute_result"
    }
   ],
   "source": [
    "ESRB_df['no_descriptors'].value_counts()[1]"
   ]
  },
  {
   "cell_type": "code",
   "execution_count": 15,
   "id": "0e456c47",
   "metadata": {},
   "outputs": [],
   "source": [
    "#Drop the title, console and those with no descriptors because they don't need to be included in the variable analysis\n",
    "ESRB_df = ESRB_df[ESRB_df['no_descriptors'] == 0]\n",
    "ESRB_df = ESRB_df.drop(columns=['title','console','no_descriptors'])\n",
    "\n",
    "#Clean the spelling errors\n",
    "\n",
    "ESRB_df.rename(columns = {'strong_janguage':'strong_language'}, inplace = True)"
   ]
  },
  {
   "cell_type": "code",
   "execution_count": 16,
   "id": "41ae37a0",
   "metadata": {},
   "outputs": [
    {
     "data": {
      "text/html": [
       "<div>\n",
       "<style scoped>\n",
       "    .dataframe tbody tr th:only-of-type {\n",
       "        vertical-align: middle;\n",
       "    }\n",
       "\n",
       "    .dataframe tbody tr th {\n",
       "        vertical-align: top;\n",
       "    }\n",
       "\n",
       "    .dataframe thead th {\n",
       "        text-align: right;\n",
       "    }\n",
       "</style>\n",
       "<table border=\"1\" class=\"dataframe\">\n",
       "  <thead>\n",
       "    <tr style=\"text-align: right;\">\n",
       "      <th></th>\n",
       "      <th>alcohol_reference</th>\n",
       "      <th>animated_blood</th>\n",
       "      <th>blood</th>\n",
       "      <th>blood_and_gore</th>\n",
       "      <th>cartoon_violence</th>\n",
       "      <th>crude_humor</th>\n",
       "      <th>drug_reference</th>\n",
       "      <th>fantasy_violence</th>\n",
       "      <th>intense_violence</th>\n",
       "      <th>language</th>\n",
       "      <th>...</th>\n",
       "      <th>sexual_content</th>\n",
       "      <th>sexual_themes</th>\n",
       "      <th>simulated_gambling</th>\n",
       "      <th>strong_language</th>\n",
       "      <th>strong_sexual_content</th>\n",
       "      <th>suggestive_themes</th>\n",
       "      <th>use_of_alcohol</th>\n",
       "      <th>use_of_drugs_and_alcohol</th>\n",
       "      <th>violence</th>\n",
       "      <th>esrb_rating</th>\n",
       "    </tr>\n",
       "  </thead>\n",
       "  <tbody>\n",
       "    <tr>\n",
       "      <th>1</th>\n",
       "      <td>0</td>\n",
       "      <td>1</td>\n",
       "      <td>0</td>\n",
       "      <td>0</td>\n",
       "      <td>0</td>\n",
       "      <td>0</td>\n",
       "      <td>0</td>\n",
       "      <td>0</td>\n",
       "      <td>1</td>\n",
       "      <td>0</td>\n",
       "      <td>...</td>\n",
       "      <td>0</td>\n",
       "      <td>0</td>\n",
       "      <td>0</td>\n",
       "      <td>0</td>\n",
       "      <td>0</td>\n",
       "      <td>0</td>\n",
       "      <td>0</td>\n",
       "      <td>0</td>\n",
       "      <td>0</td>\n",
       "      <td>ET</td>\n",
       "    </tr>\n",
       "    <tr>\n",
       "      <th>2</th>\n",
       "      <td>0</td>\n",
       "      <td>0</td>\n",
       "      <td>1</td>\n",
       "      <td>0</td>\n",
       "      <td>0</td>\n",
       "      <td>0</td>\n",
       "      <td>0</td>\n",
       "      <td>0</td>\n",
       "      <td>0</td>\n",
       "      <td>0</td>\n",
       "      <td>...</td>\n",
       "      <td>0</td>\n",
       "      <td>0</td>\n",
       "      <td>0</td>\n",
       "      <td>1</td>\n",
       "      <td>0</td>\n",
       "      <td>1</td>\n",
       "      <td>0</td>\n",
       "      <td>0</td>\n",
       "      <td>0</td>\n",
       "      <td>M</td>\n",
       "    </tr>\n",
       "    <tr>\n",
       "      <th>3</th>\n",
       "      <td>0</td>\n",
       "      <td>0</td>\n",
       "      <td>0</td>\n",
       "      <td>0</td>\n",
       "      <td>0</td>\n",
       "      <td>0</td>\n",
       "      <td>0</td>\n",
       "      <td>1</td>\n",
       "      <td>0</td>\n",
       "      <td>1</td>\n",
       "      <td>...</td>\n",
       "      <td>0</td>\n",
       "      <td>0</td>\n",
       "      <td>0</td>\n",
       "      <td>0</td>\n",
       "      <td>0</td>\n",
       "      <td>0</td>\n",
       "      <td>0</td>\n",
       "      <td>0</td>\n",
       "      <td>0</td>\n",
       "      <td>ET</td>\n",
       "    </tr>\n",
       "    <tr>\n",
       "      <th>4</th>\n",
       "      <td>0</td>\n",
       "      <td>0</td>\n",
       "      <td>0</td>\n",
       "      <td>0</td>\n",
       "      <td>0</td>\n",
       "      <td>0</td>\n",
       "      <td>0</td>\n",
       "      <td>1</td>\n",
       "      <td>0</td>\n",
       "      <td>1</td>\n",
       "      <td>...</td>\n",
       "      <td>0</td>\n",
       "      <td>0</td>\n",
       "      <td>0</td>\n",
       "      <td>0</td>\n",
       "      <td>0</td>\n",
       "      <td>1</td>\n",
       "      <td>0</td>\n",
       "      <td>0</td>\n",
       "      <td>0</td>\n",
       "      <td>T</td>\n",
       "    </tr>\n",
       "    <tr>\n",
       "      <th>6</th>\n",
       "      <td>0</td>\n",
       "      <td>0</td>\n",
       "      <td>1</td>\n",
       "      <td>0</td>\n",
       "      <td>0</td>\n",
       "      <td>0</td>\n",
       "      <td>0</td>\n",
       "      <td>0</td>\n",
       "      <td>1</td>\n",
       "      <td>0</td>\n",
       "      <td>...</td>\n",
       "      <td>0</td>\n",
       "      <td>0</td>\n",
       "      <td>0</td>\n",
       "      <td>0</td>\n",
       "      <td>0</td>\n",
       "      <td>0</td>\n",
       "      <td>0</td>\n",
       "      <td>0</td>\n",
       "      <td>1</td>\n",
       "      <td>T</td>\n",
       "    </tr>\n",
       "  </tbody>\n",
       "</table>\n",
       "<p>5 rows × 31 columns</p>\n",
       "</div>"
      ],
      "text/plain": [
       "   alcohol_reference  animated_blood  blood  blood_and_gore  cartoon_violence  \\\n",
       "1                  0               1      0               0                 0   \n",
       "2                  0               0      1               0                 0   \n",
       "3                  0               0      0               0                 0   \n",
       "4                  0               0      0               0                 0   \n",
       "6                  0               0      1               0                 0   \n",
       "\n",
       "   crude_humor  drug_reference  fantasy_violence  intense_violence  language  \\\n",
       "1            0               0                 0                 1         0   \n",
       "2            0               0                 0                 0         0   \n",
       "3            0               0                 1                 0         1   \n",
       "4            0               0                 1                 0         1   \n",
       "6            0               0                 0                 1         0   \n",
       "\n",
       "   ...  sexual_content  sexual_themes  simulated_gambling  strong_language  \\\n",
       "1  ...               0              0                   0                0   \n",
       "2  ...               0              0                   0                1   \n",
       "3  ...               0              0                   0                0   \n",
       "4  ...               0              0                   0                0   \n",
       "6  ...               0              0                   0                0   \n",
       "\n",
       "   strong_sexual_content  suggestive_themes  use_of_alcohol  \\\n",
       "1                      0                  0               0   \n",
       "2                      0                  1               0   \n",
       "3                      0                  0               0   \n",
       "4                      0                  1               0   \n",
       "6                      0                  0               0   \n",
       "\n",
       "   use_of_drugs_and_alcohol  violence  esrb_rating  \n",
       "1                         0         0           ET  \n",
       "2                         0         0            M  \n",
       "3                         0         0           ET  \n",
       "4                         0         0            T  \n",
       "6                         0         1            T  \n",
       "\n",
       "[5 rows x 31 columns]"
      ]
     },
     "execution_count": 16,
     "metadata": {},
     "output_type": "execute_result"
    }
   ],
   "source": [
    "ESRB_df.head()"
   ]
  },
  {
   "cell_type": "code",
   "execution_count": 17,
   "id": "ba5f9113",
   "metadata": {},
   "outputs": [
    {
     "name": "stdout",
     "output_type": "stream",
     "text": [
      "alcohol_reference\n",
      "[0 1]\n",
      "animated_blood\n",
      "[1 0]\n",
      "blood\n",
      "[0 1]\n",
      "blood_and_gore\n",
      "[0 1]\n",
      "cartoon_violence\n",
      "[0 1]\n",
      "crude_humor\n",
      "[0 1]\n",
      "drug_reference\n",
      "[0 1]\n",
      "fantasy_violence\n",
      "[0 1]\n",
      "intense_violence\n",
      "[1 0]\n",
      "language\n",
      "[0 1]\n",
      "lyrics\n",
      "[0 1]\n",
      "mature_humor\n",
      "[0 1]\n",
      "mild_blood\n",
      "[0 1]\n",
      "mild_cartoon_violence\n",
      "[0 1]\n",
      "mild_fantasy_violence\n",
      "[0 1]\n",
      "mild_language\n",
      "[0 1]\n",
      "mild_lyrics\n",
      "[0 1]\n",
      "mild_suggestive_themes\n",
      "[1 0]\n",
      "mild_violence\n",
      "[0 1]\n",
      "nudity\n",
      "[0 1]\n",
      "partial_nudity\n",
      "[0 1]\n",
      "sexual_content\n",
      "[0 1]\n",
      "sexual_themes\n",
      "[0 1]\n",
      "simulated_gambling\n",
      "[0 1]\n",
      "strong_language\n",
      "[0 1]\n",
      "strong_sexual_content\n",
      "[0 1]\n",
      "suggestive_themes\n",
      "[0 1]\n",
      "use_of_alcohol\n",
      "[0 1]\n",
      "use_of_drugs_and_alcohol\n",
      "[0 1]\n",
      "violence\n",
      "[0 1]\n",
      "esrb_rating\n",
      "['ET' 'M' 'T' 'E']\n"
     ]
    }
   ],
   "source": [
    "for col in ESRB_df:\n",
    "    print(ESRB_df[col].name)\n",
    "    print(ESRB_df[col].unique())"
   ]
  },
  {
   "cell_type": "code",
   "execution_count": 18,
   "id": "4993335c",
   "metadata": {},
   "outputs": [
    {
     "data": {
      "text/plain": [
       "T     652\n",
       "ET    388\n",
       "M     383\n",
       "E     150\n",
       "Name: esrb_rating, dtype: int64"
      ]
     },
     "execution_count": 18,
     "metadata": {},
     "output_type": "execute_result"
    }
   ],
   "source": [
    "ESRB_df['esrb_rating'].value_counts()"
   ]
  },
  {
   "cell_type": "code",
   "execution_count": 19,
   "id": "8fd4816e",
   "metadata": {},
   "outputs": [
    {
     "data": {
      "text/plain": [
       "<AxesSubplot:>"
      ]
     },
     "execution_count": 19,
     "metadata": {},
     "output_type": "execute_result"
    },
    {
     "data": {
      "image/png": "[encoded data removed]",
      "text/plain": [
       "<Figure size 432x288 with 1 Axes>"
      ]
     },
     "metadata": {
      "needs_background": "light"
     },
     "output_type": "display_data"
    }
   ],
   "source": [
    "ESRB_df['esrb_rating'].value_counts().plot(kind = 'bar')"
   ]
  },
  {
   "cell_type": "markdown",
   "id": "579f3139",
   "metadata": {},
   "source": [
    "PART 1 - DECISION TREE"
   ]
  },
  {
   "cell_type": "code",
   "execution_count": 20,
   "id": "ffddabe6",
   "metadata": {},
   "outputs": [
    {
     "name": "stdout",
     "output_type": "stream",
     "text": [
      "(1179, 30) (1179,) (394, 30) (394,)\n"
     ]
    }
   ],
   "source": [
    "ESRB_y = ESRB_df['esrb_rating']\n",
    "ESRB_X = ESRB_df.drop(columns=['esrb_rating'])\n",
    "\n",
    "X_Train, X_Test, y_train, y_test = train_test_split(ESRB_X, ESRB_y, test_size = 0.25, random_state = 42)\n",
    "\n",
    "print(X_Train.shape, y_train.shape, X_Test.shape, y_test.shape)"
   ]
  },
  {
   "cell_type": "code",
   "execution_count": 21,
   "id": "743fc6d2",
   "metadata": {},
   "outputs": [
    {
     "name": "stdout",
     "output_type": "stream",
     "text": [
      "Y_Train_Pred: ['ET' 'T' 'ET' 'M' 'T' 'E' 'E' 'ET' 'T' 'E' 'ET' 'T' 'T' 'ET' 'T' 'M' 'M'\n",
      " 'T' 'T' 'ET' 'T' 'E' 'T' 'T' 'ET' 'ET' 'T' 'M' 'T' 'T' 'T' 'E' 'M' 'ET'\n",
      " 'ET' 'T' 'ET' 'T' 'T' 'T' 'T' 'M' 'T' 'ET' 'T' 'ET' 'E' 'ET' 'T' 'M' 'M'\n",
      " 'M' 'M' 'T' 'M' 'E' 'T' 'ET' 'ET' 'ET' 'T' 'T' 'T' 'E' 'T' 'E' 'T' 'M'\n",
      " 'E' 'E' 'T' 'ET' 'ET' 'T' 'T' 'E' 'ET' 'T' 'ET' 'T' 'M' 'ET' 'ET' 'T'\n",
      " 'ET' 'E' 'T' 'T' 'T' 'T' 'T' 'T' 'ET' 'M' 'ET' 'ET' 'T' 'ET' 'ET' 'M']\n",
      "\n",
      "\n",
      "Y_Test_Pred: ['T' 'M' 'ET' 'M' 'T' 'T' 'T' 'ET' 'E' 'M' 'ET' 'T' 'T' 'E' 'ET' 'T' 'ET'\n",
      " 'ET' 'ET' 'ET' 'M' 'M' 'T' 'E' 'E' 'T' 'T' 'T' 'ET' 'ET' 'M' 'E' 'T' 'T'\n",
      " 'M' 'M' 'M' 'T' 'M' 'ET' 'ET' 'M' 'E' 'T' 'ET' 'T' 'ET' 'M' 'T' 'ET' 'T'\n",
      " 'ET' 'M' 'T' 'T' 'ET' 'T' 'ET' 'M' 'T' 'ET' 'ET' 'T' 'M' 'M' 'ET' 'E' 'T'\n",
      " 'E' 'ET' 'M' 'ET' 'ET' 'ET' 'E' 'ET' 'M' 'M' 'M' 'T' 'T' 'T' 'E' 'T' 'T'\n",
      " 'M' 'T' 'T' 'ET' 'M' 'T' 'T' 'T' 'ET' 'ET' 'T' 'ET' 'E' 'T' 'M']\n"
     ]
    }
   ],
   "source": [
    "dtree = tree.DecisionTreeClassifier()\n",
    "\n",
    "esrb_tree = dtree.fit(X_Train, y_train)\n",
    "\n",
    "y_train_pred = esrb_tree.predict(X_Train)\n",
    "y_test_pred = esrb_tree.predict(X_Test)\n",
    "\n",
    "print(f\"Y_Train_Pred: {y_train_pred[:100]}\")\n",
    "print(\"\\n\")\n",
    "print(f\"Y_Test_Pred: {y_test_pred[:100]}\")"
   ]
  },
  {
   "cell_type": "code",
   "execution_count": 22,
   "id": "6550aa53",
   "metadata": {},
   "outputs": [
    {
     "name": "stdout",
     "output_type": "stream",
     "text": [
      "Model accuracy score: 0.80\n"
     ]
    }
   ],
   "source": [
    "print('Model accuracy score: {0:0.2f}'. format(accuracy_score(y_test, y_test_pred)))"
   ]
  },
  {
   "cell_type": "code",
   "execution_count": 23,
   "id": "8a3f14a3",
   "metadata": {},
   "outputs": [
    {
     "data": {
      "image/png": "[encoded data removed]",
      "text/plain": [
       "<Figure size 1440x1440 with 1 Axes>"
      ]
     },
     "metadata": {
      "needs_background": "light"
     },
     "output_type": "display_data"
    }
   ],
   "source": [
    "plt.figure(figsize=(20, 20))\n",
    "tree.plot_tree(esrb_tree)\n",
    "plt.savefig('books_read.png')\n",
    "plt.show()"
   ]
  },
  {
   "cell_type": "code",
   "execution_count": 24,
   "id": "a1551938",
   "metadata": {},
   "outputs": [],
   "source": [
    "feature_names = X_Train.columns.values\n",
    "importance = esrb_tree.tree_.compute_feature_importances()"
   ]
  },
  {
   "cell_type": "code",
   "execution_count": 25,
   "id": "0df56e98",
   "metadata": {},
   "outputs": [
    {
     "data": {
      "text/plain": [
       "array(['alcohol_reference', 'animated_blood', 'blood', 'blood_and_gore',\n",
       "       'cartoon_violence', 'crude_humor', 'drug_reference',\n",
       "       'fantasy_violence', 'intense_violence', 'language', 'lyrics',\n",
       "       'mature_humor', 'mild_blood', 'mild_cartoon_violence',\n",
       "       'mild_fantasy_violence', 'mild_language', 'mild_lyrics',\n",
       "       'mild_suggestive_themes', 'mild_violence', 'nudity',\n",
       "       'partial_nudity', 'sexual_content', 'sexual_themes',\n",
       "       'simulated_gambling', 'strong_language', 'strong_sexual_content',\n",
       "       'suggestive_themes', 'use_of_alcohol', 'use_of_drugs_and_alcohol',\n",
       "       'violence'], dtype=object)"
      ]
     },
     "execution_count": 25,
     "metadata": {},
     "output_type": "execute_result"
    }
   ],
   "source": [
    "feature_names"
   ]
  },
  {
   "cell_type": "code",
   "execution_count": 26,
   "id": "827a2b77",
   "metadata": {},
   "outputs": [
    {
     "data": {
      "text/plain": [
       "array([0.01958968, 0.01239466, 0.06048092, 0.09009111, 0.01549784,\n",
       "       0.01226332, 0.0142403 , 0.11606253, 0.02540855, 0.02376258,\n",
       "       0.01533489, 0.00586862, 0.01544943, 0.01392837, 0.08639653,\n",
       "       0.01296998, 0.0165629 , 0.01934925, 0.01223939, 0.00638357,\n",
       "       0.00585231, 0.01070526, 0.02432981, 0.03521395, 0.20834865,\n",
       "       0.02855685, 0.04600508, 0.0120388 , 0.00292907, 0.03174578])"
      ]
     },
     "execution_count": 26,
     "metadata": {},
     "output_type": "execute_result"
    }
   ],
   "source": [
    "importance"
   ]
  },
  {
   "cell_type": "code",
   "execution_count": 27,
   "id": "1566c72e",
   "metadata": {},
   "outputs": [],
   "source": [
    "importance_df = pd.DataFrame(feature_names, columns = ['features'])\n",
    "\n",
    "#importance_df['importance'] = importance"
   ]
  },
  {
   "cell_type": "code",
   "execution_count": 28,
   "id": "7ee227b6",
   "metadata": {},
   "outputs": [],
   "source": [
    "importance_df['importance'] = importance"
   ]
  },
  {
   "cell_type": "code",
   "execution_count": 29,
   "id": "e7450cdd",
   "metadata": {},
   "outputs": [
    {
     "data": {
      "text/html": [
       "<div>\n",
       "<style scoped>\n",
       "    .dataframe tbody tr th:only-of-type {\n",
       "        vertical-align: middle;\n",
       "    }\n",
       "\n",
       "    .dataframe tbody tr th {\n",
       "        vertical-align: top;\n",
       "    }\n",
       "\n",
       "    .dataframe thead th {\n",
       "        text-align: right;\n",
       "    }\n",
       "</style>\n",
       "<table border=\"1\" class=\"dataframe\">\n",
       "  <thead>\n",
       "    <tr style=\"text-align: right;\">\n",
       "      <th></th>\n",
       "      <th>features</th>\n",
       "      <th>importance</th>\n",
       "    </tr>\n",
       "  </thead>\n",
       "  <tbody>\n",
       "    <tr>\n",
       "      <th>0</th>\n",
       "      <td>alcohol_reference</td>\n",
       "      <td>0.019590</td>\n",
       "    </tr>\n",
       "    <tr>\n",
       "      <th>1</th>\n",
       "      <td>animated_blood</td>\n",
       "      <td>0.012395</td>\n",
       "    </tr>\n",
       "    <tr>\n",
       "      <th>2</th>\n",
       "      <td>blood</td>\n",
       "      <td>0.060481</td>\n",
       "    </tr>\n",
       "    <tr>\n",
       "      <th>3</th>\n",
       "      <td>blood_and_gore</td>\n",
       "      <td>0.090091</td>\n",
       "    </tr>\n",
       "    <tr>\n",
       "      <th>4</th>\n",
       "      <td>cartoon_violence</td>\n",
       "      <td>0.015498</td>\n",
       "    </tr>\n",
       "    <tr>\n",
       "      <th>5</th>\n",
       "      <td>crude_humor</td>\n",
       "      <td>0.012263</td>\n",
       "    </tr>\n",
       "    <tr>\n",
       "      <th>6</th>\n",
       "      <td>drug_reference</td>\n",
       "      <td>0.014240</td>\n",
       "    </tr>\n",
       "    <tr>\n",
       "      <th>7</th>\n",
       "      <td>fantasy_violence</td>\n",
       "      <td>0.116063</td>\n",
       "    </tr>\n",
       "    <tr>\n",
       "      <th>8</th>\n",
       "      <td>intense_violence</td>\n",
       "      <td>0.025409</td>\n",
       "    </tr>\n",
       "    <tr>\n",
       "      <th>9</th>\n",
       "      <td>language</td>\n",
       "      <td>0.023763</td>\n",
       "    </tr>\n",
       "    <tr>\n",
       "      <th>10</th>\n",
       "      <td>lyrics</td>\n",
       "      <td>0.015335</td>\n",
       "    </tr>\n",
       "    <tr>\n",
       "      <th>11</th>\n",
       "      <td>mature_humor</td>\n",
       "      <td>0.005869</td>\n",
       "    </tr>\n",
       "    <tr>\n",
       "      <th>12</th>\n",
       "      <td>mild_blood</td>\n",
       "      <td>0.015449</td>\n",
       "    </tr>\n",
       "    <tr>\n",
       "      <th>13</th>\n",
       "      <td>mild_cartoon_violence</td>\n",
       "      <td>0.013928</td>\n",
       "    </tr>\n",
       "    <tr>\n",
       "      <th>14</th>\n",
       "      <td>mild_fantasy_violence</td>\n",
       "      <td>0.086397</td>\n",
       "    </tr>\n",
       "    <tr>\n",
       "      <th>15</th>\n",
       "      <td>mild_language</td>\n",
       "      <td>0.012970</td>\n",
       "    </tr>\n",
       "    <tr>\n",
       "      <th>16</th>\n",
       "      <td>mild_lyrics</td>\n",
       "      <td>0.016563</td>\n",
       "    </tr>\n",
       "    <tr>\n",
       "      <th>17</th>\n",
       "      <td>mild_suggestive_themes</td>\n",
       "      <td>0.019349</td>\n",
       "    </tr>\n",
       "    <tr>\n",
       "      <th>18</th>\n",
       "      <td>mild_violence</td>\n",
       "      <td>0.012239</td>\n",
       "    </tr>\n",
       "    <tr>\n",
       "      <th>19</th>\n",
       "      <td>nudity</td>\n",
       "      <td>0.006384</td>\n",
       "    </tr>\n",
       "    <tr>\n",
       "      <th>20</th>\n",
       "      <td>partial_nudity</td>\n",
       "      <td>0.005852</td>\n",
       "    </tr>\n",
       "    <tr>\n",
       "      <th>21</th>\n",
       "      <td>sexual_content</td>\n",
       "      <td>0.010705</td>\n",
       "    </tr>\n",
       "    <tr>\n",
       "      <th>22</th>\n",
       "      <td>sexual_themes</td>\n",
       "      <td>0.024330</td>\n",
       "    </tr>\n",
       "    <tr>\n",
       "      <th>23</th>\n",
       "      <td>simulated_gambling</td>\n",
       "      <td>0.035214</td>\n",
       "    </tr>\n",
       "    <tr>\n",
       "      <th>24</th>\n",
       "      <td>strong_language</td>\n",
       "      <td>0.208349</td>\n",
       "    </tr>\n",
       "    <tr>\n",
       "      <th>25</th>\n",
       "      <td>strong_sexual_content</td>\n",
       "      <td>0.028557</td>\n",
       "    </tr>\n",
       "    <tr>\n",
       "      <th>26</th>\n",
       "      <td>suggestive_themes</td>\n",
       "      <td>0.046005</td>\n",
       "    </tr>\n",
       "    <tr>\n",
       "      <th>27</th>\n",
       "      <td>use_of_alcohol</td>\n",
       "      <td>0.012039</td>\n",
       "    </tr>\n",
       "    <tr>\n",
       "      <th>28</th>\n",
       "      <td>use_of_drugs_and_alcohol</td>\n",
       "      <td>0.002929</td>\n",
       "    </tr>\n",
       "    <tr>\n",
       "      <th>29</th>\n",
       "      <td>violence</td>\n",
       "      <td>0.031746</td>\n",
       "    </tr>\n",
       "  </tbody>\n",
       "</table>\n",
       "</div>"
      ],
      "text/plain": [
       "                    features  importance\n",
       "0          alcohol_reference    0.019590\n",
       "1             animated_blood    0.012395\n",
       "2                      blood    0.060481\n",
       "3             blood_and_gore    0.090091\n",
       "4           cartoon_violence    0.015498\n",
       "5                crude_humor    0.012263\n",
       "6             drug_reference    0.014240\n",
       "7           fantasy_violence    0.116063\n",
       "8           intense_violence    0.025409\n",
       "9                   language    0.023763\n",
       "10                    lyrics    0.015335\n",
       "11              mature_humor    0.005869\n",
       "12                mild_blood    0.015449\n",
       "13     mild_cartoon_violence    0.013928\n",
       "14     mild_fantasy_violence    0.086397\n",
       "15             mild_language    0.012970\n",
       "16               mild_lyrics    0.016563\n",
       "17    mild_suggestive_themes    0.019349\n",
       "18             mild_violence    0.012239\n",
       "19                    nudity    0.006384\n",
       "20            partial_nudity    0.005852\n",
       "21            sexual_content    0.010705\n",
       "22             sexual_themes    0.024330\n",
       "23        simulated_gambling    0.035214\n",
       "24           strong_language    0.208349\n",
       "25     strong_sexual_content    0.028557\n",
       "26         suggestive_themes    0.046005\n",
       "27            use_of_alcohol    0.012039\n",
       "28  use_of_drugs_and_alcohol    0.002929\n",
       "29                  violence    0.031746"
      ]
     },
     "execution_count": 29,
     "metadata": {},
     "output_type": "execute_result"
    }
   ],
   "source": [
    "importance_df"
   ]
  },
  {
   "cell_type": "code",
   "execution_count": 30,
   "id": "db778645",
   "metadata": {},
   "outputs": [
    {
     "data": {
      "image/png": "[encoded data removed]",
      "text/plain": [
       "<Figure size 1440x720 with 1 Axes>"
      ]
     },
     "metadata": {
      "needs_background": "light"
     },
     "output_type": "display_data"
    }
   ],
   "source": [
    "plt.figure(figsize=(20, 10))\n",
    "plt.bar(x=importance_df['features'], height=importance_df['importance'], color='#087E8B')\n",
    "plt.title('Feature importances obtained from coefficients', size=20)\n",
    "plt.xticks(rotation='vertical')\n",
    "plt.show()"
   ]
  },
  {
   "cell_type": "code",
   "execution_count": 31,
   "id": "debc7e2b",
   "metadata": {},
   "outputs": [
    {
     "data": {
      "text/html": [
       "<div>\n",
       "<style scoped>\n",
       "    .dataframe tbody tr th:only-of-type {\n",
       "        vertical-align: middle;\n",
       "    }\n",
       "\n",
       "    .dataframe tbody tr th {\n",
       "        vertical-align: top;\n",
       "    }\n",
       "\n",
       "    .dataframe thead th {\n",
       "        text-align: right;\n",
       "    }\n",
       "</style>\n",
       "<table border=\"1\" class=\"dataframe\">\n",
       "  <thead>\n",
       "    <tr style=\"text-align: right;\">\n",
       "      <th></th>\n",
       "      <th>Depth</th>\n",
       "      <th>Error</th>\n",
       "    </tr>\n",
       "  </thead>\n",
       "  <tbody>\n",
       "    <tr>\n",
       "      <th>0</th>\n",
       "      <td>1</td>\n",
       "      <td>0.465649</td>\n",
       "    </tr>\n",
       "    <tr>\n",
       "      <th>1</th>\n",
       "      <td>2</td>\n",
       "      <td>0.370653</td>\n",
       "    </tr>\n",
       "    <tr>\n",
       "      <th>2</th>\n",
       "      <td>3</td>\n",
       "      <td>0.315522</td>\n",
       "    </tr>\n",
       "    <tr>\n",
       "      <th>3</th>\n",
       "      <td>4</td>\n",
       "      <td>0.257846</td>\n",
       "    </tr>\n",
       "    <tr>\n",
       "      <th>4</th>\n",
       "      <td>5</td>\n",
       "      <td>0.243427</td>\n",
       "    </tr>\n",
       "    <tr>\n",
       "      <th>5</th>\n",
       "      <td>6</td>\n",
       "      <td>0.231552</td>\n",
       "    </tr>\n",
       "    <tr>\n",
       "      <th>6</th>\n",
       "      <td>7</td>\n",
       "      <td>0.225615</td>\n",
       "    </tr>\n",
       "    <tr>\n",
       "      <th>7</th>\n",
       "      <td>8</td>\n",
       "      <td>0.193384</td>\n",
       "    </tr>\n",
       "    <tr>\n",
       "      <th>8</th>\n",
       "      <td>9</td>\n",
       "      <td>0.189143</td>\n",
       "    </tr>\n",
       "    <tr>\n",
       "      <th>9</th>\n",
       "      <td>10</td>\n",
       "      <td>0.165394</td>\n",
       "    </tr>\n",
       "    <tr>\n",
       "      <th>10</th>\n",
       "      <td>11</td>\n",
       "      <td>0.154368</td>\n",
       "    </tr>\n",
       "    <tr>\n",
       "      <th>11</th>\n",
       "      <td>12</td>\n",
       "      <td>0.143342</td>\n",
       "    </tr>\n",
       "    <tr>\n",
       "      <th>12</th>\n",
       "      <td>13</td>\n",
       "      <td>0.126378</td>\n",
       "    </tr>\n",
       "    <tr>\n",
       "      <th>13</th>\n",
       "      <td>14</td>\n",
       "      <td>0.117048</td>\n",
       "    </tr>\n",
       "    <tr>\n",
       "      <th>14</th>\n",
       "      <td>15</td>\n",
       "      <td>0.112807</td>\n",
       "    </tr>\n",
       "    <tr>\n",
       "      <th>15</th>\n",
       "      <td>16</td>\n",
       "      <td>0.106870</td>\n",
       "    </tr>\n",
       "    <tr>\n",
       "      <th>16</th>\n",
       "      <td>17</td>\n",
       "      <td>0.101781</td>\n",
       "    </tr>\n",
       "    <tr>\n",
       "      <th>17</th>\n",
       "      <td>18</td>\n",
       "      <td>0.096692</td>\n",
       "    </tr>\n",
       "    <tr>\n",
       "      <th>18</th>\n",
       "      <td>19</td>\n",
       "      <td>0.093299</td>\n",
       "    </tr>\n",
       "    <tr>\n",
       "      <th>19</th>\n",
       "      <td>20</td>\n",
       "      <td>0.090755</td>\n",
       "    </tr>\n",
       "    <tr>\n",
       "      <th>20</th>\n",
       "      <td>21</td>\n",
       "      <td>0.087362</td>\n",
       "    </tr>\n",
       "    <tr>\n",
       "      <th>21</th>\n",
       "      <td>22</td>\n",
       "      <td>0.085666</td>\n",
       "    </tr>\n",
       "    <tr>\n",
       "      <th>22</th>\n",
       "      <td>23</td>\n",
       "      <td>0.084818</td>\n",
       "    </tr>\n",
       "    <tr>\n",
       "      <th>23</th>\n",
       "      <td>24</td>\n",
       "      <td>0.083969</td>\n",
       "    </tr>\n",
       "    <tr>\n",
       "      <th>24</th>\n",
       "      <td>25</td>\n",
       "      <td>0.083969</td>\n",
       "    </tr>\n",
       "    <tr>\n",
       "      <th>25</th>\n",
       "      <td>26</td>\n",
       "      <td>0.083969</td>\n",
       "    </tr>\n",
       "  </tbody>\n",
       "</table>\n",
       "</div>"
      ],
      "text/plain": [
       "    Depth     Error\n",
       "0       1  0.465649\n",
       "1       2  0.370653\n",
       "2       3  0.315522\n",
       "3       4  0.257846\n",
       "4       5  0.243427\n",
       "5       6  0.231552\n",
       "6       7  0.225615\n",
       "7       8  0.193384\n",
       "8       9  0.189143\n",
       "9      10  0.165394\n",
       "10     11  0.154368\n",
       "11     12  0.143342\n",
       "12     13  0.126378\n",
       "13     14  0.117048\n",
       "14     15  0.112807\n",
       "15     16  0.106870\n",
       "16     17  0.101781\n",
       "17     18  0.096692\n",
       "18     19  0.093299\n",
       "19     20  0.090755\n",
       "20     21  0.087362\n",
       "21     22  0.085666\n",
       "22     23  0.084818\n",
       "23     24  0.083969\n",
       "24     25  0.083969\n",
       "25     26  0.083969"
      ]
     },
     "execution_count": 31,
     "metadata": {},
     "output_type": "execute_result"
    }
   ],
   "source": [
    "Errors = {}\n",
    "Errors_list = []\n",
    "\n",
    "for i in range(1, esrb_tree.tree_.max_depth):\n",
    "    clf = tree.DecisionTreeClassifier(max_depth = i)\n",
    "    clf = clf.fit(X_Train, y_train)\n",
    "    y_train_pred = clf.predict(X_Train)\n",
    "    ac_score = accuracy_score(y_train, y_train_pred)\n",
    "    Errors[i] = 1 - ac_score\n",
    "    Errors_list.append(1 - ac_score)\n",
    "    \n",
    "Errors_DF = pd.DataFrame(Errors.items(), columns=['Depth', 'Error'])\n",
    "Errors_DF"
   ]
  },
  {
   "cell_type": "code",
   "execution_count": 32,
   "id": "6d95897f",
   "metadata": {},
   "outputs": [
    {
     "data": {
      "text/plain": [
       "<AxesSubplot:xlabel='Depth'>"
      ]
     },
     "execution_count": 32,
     "metadata": {},
     "output_type": "execute_result"
    },
    {
     "data": {
      "image/png": "[encoded data removed]",
      "text/plain": [
       "<Figure size 432x288 with 1 Axes>"
      ]
     },
     "metadata": {
      "needs_background": "light"
     },
     "output_type": "display_data"
    }
   ],
   "source": [
    "Errors_DF.plot('Depth','Error')"
   ]
  },
  {
   "cell_type": "code",
   "execution_count": 33,
   "id": "4c4a197c",
   "metadata": {},
   "outputs": [
    {
     "name": "stdout",
     "output_type": "stream",
     "text": [
      "Model accuracy score: 0.8020\n"
     ]
    }
   ],
   "source": [
    "esrb_tree2 = tree.DecisionTreeClassifier(max_depth = 25, random_state=42)\n",
    "esrb_model_tree2 = esrb_tree2.fit(X_Train, y_train)\n",
    "y_test_pred2 = esrb_model_tree2.predict(X_Test)\n",
    "print('Model accuracy score: {0:0.4f}'. format(accuracy_score(y_test, y_test_pred2)))"
   ]
  },
  {
   "cell_type": "code",
   "execution_count": 34,
   "id": "0a3bb273",
   "metadata": {},
   "outputs": [
    {
     "data": {
      "text/plain": [
       "<AxesSubplot:>"
      ]
     },
     "execution_count": 34,
     "metadata": {},
     "output_type": "execute_result"
    },
    {
     "data": {
      "image/png": "[encoded data removed]",
      "text/plain": [
       "<Figure size 432x288 with 1 Axes>"
      ]
     },
     "metadata": {
      "needs_background": "light"
     },
     "output_type": "display_data"
    }
   ],
   "source": [
    "language = ESRB_df[ESRB_df['strong_language'] == 1]\n",
    "language['esrb_rating'].value_counts().plot(kind = 'bar')"
   ]
  },
  {
   "cell_type": "code",
   "execution_count": 35,
   "id": "6aec3d40",
   "metadata": {},
   "outputs": [
    {
     "data": {
      "text/plain": [
       "<AxesSubplot:>"
      ]
     },
     "execution_count": 35,
     "metadata": {},
     "output_type": "execute_result"
    },
    {
     "data": {
      "image/png": "[encoded data removed]",
      "text/plain": [
       "<Figure size 432x288 with 1 Axes>"
      ]
     },
     "metadata": {
      "needs_background": "light"
     },
     "output_type": "display_data"
    }
   ],
   "source": [
    "mature_humor = ESRB_df[ESRB_df['mature_humor'] == 1]\n",
    "mature_humor['esrb_rating'].value_counts().plot(kind = 'bar')"
   ]
  },
  {
   "cell_type": "code",
   "execution_count": 36,
   "id": "e8e742f2",
   "metadata": {},
   "outputs": [
    {
     "name": "stdout",
     "output_type": "stream",
     "text": [
      "(1179, 5) (394, 5) (1179,) (394,)\n"
     ]
    }
   ],
   "source": [
    "ESRB_filtered = ESRB_df.filter(['strong_language','fantasy_violence','blood','blood_and_gore','suggestive_themes','esrb_rating'])\n",
    "\n",
    "ESRB_filtered_y = ESRB_filtered['esrb_rating']\n",
    "ESRB_filtered_X = ESRB_filtered.drop(columns = ['esrb_rating'])\n",
    "\n",
    "Filtered_X_Train, Filtered_X_Test, Filtered_y_train, Filtered_y_test = train_test_split(ESRB_filtered_X, ESRB_filtered_y, test_size = 0.25, random_state = 42)\n",
    "\n",
    "print(Filtered_X_Train.shape, Filtered_X_Test.shape, Filtered_y_train.shape, Filtered_y_test.shape)\n"
   ]
  },
  {
   "cell_type": "code",
   "execution_count": 37,
   "id": "034629ed",
   "metadata": {},
   "outputs": [
    {
     "name": "stdout",
     "output_type": "stream",
     "text": [
      "Model accuracy score: 0.70\n"
     ]
    }
   ],
   "source": [
    "filtered_tree = dtree.fit(Filtered_X_Train, Filtered_y_train)\n",
    "filtered_test_pred = filtered_tree.predict(Filtered_X_Test)\n",
    "print('Model accuracy score: {0:0.2f}'. format(accuracy_score(Filtered_y_test, filtered_test_pred)))"
   ]
  },
  {
   "cell_type": "markdown",
   "id": "79542335",
   "metadata": {},
   "source": [
    "PART 2 - RANDOM FOREST"
   ]
  },
  {
   "cell_type": "code",
   "execution_count": 38,
   "id": "5b4db18a",
   "metadata": {},
   "outputs": [
    {
     "name": "stdout",
     "output_type": "stream",
     "text": [
      "Y_Train_Pred: ['ET' 'T' 'ET' 'M' 'T' 'E' 'E' 'ET' 'T' 'E' 'ET' 'T' 'T' 'ET' 'T' 'M' 'M'\n",
      " 'T' 'T' 'ET' 'T' 'E' 'T' 'T' 'ET' 'ET' 'T' 'M' 'T' 'T' 'T' 'E' 'M' 'ET'\n",
      " 'ET' 'T' 'ET' 'T' 'T' 'T' 'T' 'M' 'T' 'ET' 'T' 'ET' 'E' 'ET' 'T' 'M' 'M'\n",
      " 'M' 'M' 'T' 'M' 'E' 'T' 'ET' 'ET' 'ET' 'T' 'T' 'T' 'E' 'T' 'E' 'T' 'M'\n",
      " 'E' 'E' 'T' 'ET' 'ET' 'T' 'T' 'E' 'ET' 'T' 'ET' 'T' 'M' 'ET' 'ET' 'T'\n",
      " 'ET' 'E' 'T' 'T' 'T' 'T' 'T' 'T' 'ET' 'M' 'ET' 'ET' 'T' 'ET' 'ET' 'M']\n",
      "\n",
      "\n",
      "Y_Test_Pred: ['T' 'M' 'ET' 'M' 'T' 'T' 'T' 'ET' 'E' 'M' 'ET' 'T' 'T' 'E' 'ET' 'T' 'ET'\n",
      " 'ET' 'ET' 'ET' 'M' 'M' 'T' 'E' 'E' 'T' 'T' 'T' 'ET' 'ET' 'M' 'E' 'T' 'T'\n",
      " 'M' 'M' 'M' 'T' 'M' 'ET' 'ET' 'M' 'E' 'T' 'ET' 'T' 'ET' 'M' 'T' 'ET' 'T'\n",
      " 'ET' 'M' 'T' 'T' 'ET' 'T' 'ET' 'M' 'T' 'ET' 'ET' 'T' 'M' 'M' 'ET' 'E' 'T'\n",
      " 'E' 'ET' 'M' 'ET' 'ET' 'ET' 'E' 'ET' 'M' 'M' 'M' 'T' 'T' 'T' 'E' 'T' 'T'\n",
      " 'M' 'T' 'T' 'ET' 'M' 'T' 'T' 'T' 'ET' 'ET' 'T' 'ET' 'E' 'T' 'M']\n"
     ]
    }
   ],
   "source": [
    "RFC = RandomForestClassifier()\n",
    "\n",
    "RFC_model = RFC.fit(X_Train, y_train)\n",
    "\n",
    "RFC_y_train_pred = RFC.predict(X_Train)\n",
    "RFC_y_test_pred = RFC.predict(X_Test)\n",
    "\n",
    "print(f\"Y_Train_Pred: {y_train_pred[:100]}\")\n",
    "print(\"\\n\")\n",
    "print(f\"Y_Test_Pred: {y_test_pred[:100]}\")"
   ]
  },
  {
   "cell_type": "code",
   "execution_count": 39,
   "id": "146a2dac",
   "metadata": {},
   "outputs": [
    {
     "name": "stdout",
     "output_type": "stream",
     "text": [
      "Train model accuracy score: 0.92\n",
      "Test model accuracy score: 0.81\n"
     ]
    }
   ],
   "source": [
    "print('Train model accuracy score: {0:0.2f}'. format(accuracy_score(y_train, RFC_y_train_pred)))\n",
    "print('Test model accuracy score: {0:0.2f}'. format(accuracy_score(y_test, RFC_y_test_pred)))"
   ]
  },
  {
   "cell_type": "code",
   "execution_count": 40,
   "id": "1a42930e",
   "metadata": {},
   "outputs": [],
   "source": [
    "Errors = {}\n",
    "Errors_list = []\n",
    "\n",
    "for i in range(1, 30):\n",
    "    clf = RandomForestClassifier(max_depth=i, random_state=42)\n",
    "    clf = clf.fit(X_Train, y_train)\n",
    "    y_train_pred = clf.predict(X_Train)\n",
    "    ac_score = accuracy_score(y_train, y_train_pred)\n",
    "    Errors[i] = ac_score\n",
    "    Errors_list.append(ac_score)"
   ]
  },
  {
   "cell_type": "code",
   "execution_count": 41,
   "id": "2c17d932",
   "metadata": {},
   "outputs": [
    {
     "data": {
      "text/html": [
       "<div>\n",
       "<style scoped>\n",
       "    .dataframe tbody tr th:only-of-type {\n",
       "        vertical-align: middle;\n",
       "    }\n",
       "\n",
       "    .dataframe tbody tr th {\n",
       "        vertical-align: top;\n",
       "    }\n",
       "\n",
       "    .dataframe thead th {\n",
       "        text-align: right;\n",
       "    }\n",
       "</style>\n",
       "<table border=\"1\" class=\"dataframe\">\n",
       "  <thead>\n",
       "    <tr style=\"text-align: right;\">\n",
       "      <th></th>\n",
       "      <th>Depth</th>\n",
       "      <th>Accuracy</th>\n",
       "    </tr>\n",
       "  </thead>\n",
       "  <tbody>\n",
       "    <tr>\n",
       "      <th>0</th>\n",
       "      <td>1</td>\n",
       "      <td>0.479220</td>\n",
       "    </tr>\n",
       "    <tr>\n",
       "      <th>1</th>\n",
       "      <td>2</td>\n",
       "      <td>0.693808</td>\n",
       "    </tr>\n",
       "    <tr>\n",
       "      <th>2</th>\n",
       "      <td>3</td>\n",
       "      <td>0.742154</td>\n",
       "    </tr>\n",
       "    <tr>\n",
       "      <th>3</th>\n",
       "      <td>4</td>\n",
       "      <td>0.756573</td>\n",
       "    </tr>\n",
       "    <tr>\n",
       "      <th>4</th>\n",
       "      <td>5</td>\n",
       "      <td>0.774385</td>\n",
       "    </tr>\n",
       "    <tr>\n",
       "      <th>5</th>\n",
       "      <td>6</td>\n",
       "      <td>0.797286</td>\n",
       "    </tr>\n",
       "    <tr>\n",
       "      <th>6</th>\n",
       "      <td>7</td>\n",
       "      <td>0.826972</td>\n",
       "    </tr>\n",
       "    <tr>\n",
       "      <th>7</th>\n",
       "      <td>8</td>\n",
       "      <td>0.830365</td>\n",
       "    </tr>\n",
       "    <tr>\n",
       "      <th>8</th>\n",
       "      <td>9</td>\n",
       "      <td>0.842239</td>\n",
       "    </tr>\n",
       "    <tr>\n",
       "      <th>9</th>\n",
       "      <td>10</td>\n",
       "      <td>0.860051</td>\n",
       "    </tr>\n",
       "    <tr>\n",
       "      <th>10</th>\n",
       "      <td>11</td>\n",
       "      <td>0.876166</td>\n",
       "    </tr>\n",
       "    <tr>\n",
       "      <th>11</th>\n",
       "      <td>12</td>\n",
       "      <td>0.888041</td>\n",
       "    </tr>\n",
       "    <tr>\n",
       "      <th>12</th>\n",
       "      <td>13</td>\n",
       "      <td>0.897371</td>\n",
       "    </tr>\n",
       "    <tr>\n",
       "      <th>13</th>\n",
       "      <td>14</td>\n",
       "      <td>0.907549</td>\n",
       "    </tr>\n",
       "    <tr>\n",
       "      <th>14</th>\n",
       "      <td>15</td>\n",
       "      <td>0.909245</td>\n",
       "    </tr>\n",
       "    <tr>\n",
       "      <th>15</th>\n",
       "      <td>16</td>\n",
       "      <td>0.910093</td>\n",
       "    </tr>\n",
       "    <tr>\n",
       "      <th>16</th>\n",
       "      <td>17</td>\n",
       "      <td>0.910093</td>\n",
       "    </tr>\n",
       "    <tr>\n",
       "      <th>17</th>\n",
       "      <td>18</td>\n",
       "      <td>0.916031</td>\n",
       "    </tr>\n",
       "    <tr>\n",
       "      <th>18</th>\n",
       "      <td>19</td>\n",
       "      <td>0.916031</td>\n",
       "    </tr>\n",
       "    <tr>\n",
       "      <th>19</th>\n",
       "      <td>20</td>\n",
       "      <td>0.916031</td>\n",
       "    </tr>\n",
       "    <tr>\n",
       "      <th>20</th>\n",
       "      <td>21</td>\n",
       "      <td>0.916031</td>\n",
       "    </tr>\n",
       "    <tr>\n",
       "      <th>21</th>\n",
       "      <td>22</td>\n",
       "      <td>0.916031</td>\n",
       "    </tr>\n",
       "    <tr>\n",
       "      <th>22</th>\n",
       "      <td>23</td>\n",
       "      <td>0.916031</td>\n",
       "    </tr>\n",
       "    <tr>\n",
       "      <th>23</th>\n",
       "      <td>24</td>\n",
       "      <td>0.916031</td>\n",
       "    </tr>\n",
       "    <tr>\n",
       "      <th>24</th>\n",
       "      <td>25</td>\n",
       "      <td>0.916031</td>\n",
       "    </tr>\n",
       "    <tr>\n",
       "      <th>25</th>\n",
       "      <td>26</td>\n",
       "      <td>0.916031</td>\n",
       "    </tr>\n",
       "    <tr>\n",
       "      <th>26</th>\n",
       "      <td>27</td>\n",
       "      <td>0.916031</td>\n",
       "    </tr>\n",
       "    <tr>\n",
       "      <th>27</th>\n",
       "      <td>28</td>\n",
       "      <td>0.916031</td>\n",
       "    </tr>\n",
       "    <tr>\n",
       "      <th>28</th>\n",
       "      <td>29</td>\n",
       "      <td>0.916031</td>\n",
       "    </tr>\n",
       "  </tbody>\n",
       "</table>\n",
       "</div>"
      ],
      "text/plain": [
       "    Depth  Accuracy\n",
       "0       1  0.479220\n",
       "1       2  0.693808\n",
       "2       3  0.742154\n",
       "3       4  0.756573\n",
       "4       5  0.774385\n",
       "5       6  0.797286\n",
       "6       7  0.826972\n",
       "7       8  0.830365\n",
       "8       9  0.842239\n",
       "9      10  0.860051\n",
       "10     11  0.876166\n",
       "11     12  0.888041\n",
       "12     13  0.897371\n",
       "13     14  0.907549\n",
       "14     15  0.909245\n",
       "15     16  0.910093\n",
       "16     17  0.910093\n",
       "17     18  0.916031\n",
       "18     19  0.916031\n",
       "19     20  0.916031\n",
       "20     21  0.916031\n",
       "21     22  0.916031\n",
       "22     23  0.916031\n",
       "23     24  0.916031\n",
       "24     25  0.916031\n",
       "25     26  0.916031\n",
       "26     27  0.916031\n",
       "27     28  0.916031\n",
       "28     29  0.916031"
      ]
     },
     "execution_count": 41,
     "metadata": {},
     "output_type": "execute_result"
    }
   ],
   "source": [
    "Errors_DF = pd.DataFrame(Errors.items(), columns=['Depth', 'Accuracy'])\n",
    "Errors_DF"
   ]
  },
  {
   "cell_type": "code",
   "execution_count": 42,
   "id": "a954085b",
   "metadata": {},
   "outputs": [],
   "source": [
    "param_grid = { \n",
    "    'n_estimators': [200, 500],\n",
    "    'max_depth' : [16,20,24,28],\n",
    "    'criterion' :['gini', 'entropy']}"
   ]
  },
  {
   "cell_type": "code",
   "execution_count": 44,
   "id": "8e544a07",
   "metadata": {},
   "outputs": [
    {
     "data": {
      "text/plain": [
       "{'criterion': 'entropy', 'max_depth': 24, 'n_estimators': 200}"
      ]
     },
     "execution_count": 44,
     "metadata": {},
     "output_type": "execute_result"
    }
   ],
   "source": [
    "CV_RFC = GridSearchCV(estimator=RFC, param_grid=param_grid, cv= 5)\n",
    "CV_RFC.fit(X_Train, y_train).best_params_"
   ]
  },
  {
   "cell_type": "code",
   "execution_count": 45,
   "id": "58249b4d",
   "metadata": {},
   "outputs": [
    {
     "name": "stdout",
     "output_type": "stream",
     "text": [
      "Train model accuracy score: 0.92\n",
      "Test model accuracy score: 0.81\n"
     ]
    }
   ],
   "source": [
    "RFC_Tuned = RandomForestClassifier(n_estimators= 500, max_depth=20, criterion='entropy')\n",
    "\n",
    "RFC_Tuned_model = RFC_Tuned.fit(X_Train, y_train)\n",
    "\n",
    "RFC_Tuned_y_train_pred = RFC_Tuned_model.predict(X_Train)\n",
    "RFC_Tuned_y_test_pred = RFC_Tuned_model.predict(X_Test)\n",
    "\n",
    "print('Train model accuracy score: {0:0.2f}'. format(accuracy_score(y_train, RFC_Tuned_y_train_pred)))\n",
    "print('Test model accuracy score: {0:0.2f}'. format(accuracy_score(y_test, RFC_Tuned_y_test_pred)))"
   ]
  },
  {
   "cell_type": "code",
   "execution_count": 46,
   "id": "b64f301e",
   "metadata": {},
   "outputs": [],
   "source": [
    "forest_importances = RFC_Tuned_model.feature_importances_\n",
    "rfc_importance_df = pd.DataFrame(feature_names, columns = ['features'])\n",
    "rfc_importance_df['importance'] = forest_importances"
   ]
  },
  {
   "cell_type": "code",
   "execution_count": 47,
   "id": "fd550b9d",
   "metadata": {},
   "outputs": [
    {
     "data": {
      "text/html": [
       "<div>\n",
       "<style scoped>\n",
       "    .dataframe tbody tr th:only-of-type {\n",
       "        vertical-align: middle;\n",
       "    }\n",
       "\n",
       "    .dataframe tbody tr th {\n",
       "        vertical-align: top;\n",
       "    }\n",
       "\n",
       "    .dataframe thead th {\n",
       "        text-align: right;\n",
       "    }\n",
       "</style>\n",
       "<table border=\"1\" class=\"dataframe\">\n",
       "  <thead>\n",
       "    <tr style=\"text-align: right;\">\n",
       "      <th></th>\n",
       "      <th>features</th>\n",
       "      <th>importance</th>\n",
       "    </tr>\n",
       "  </thead>\n",
       "  <tbody>\n",
       "    <tr>\n",
       "      <th>0</th>\n",
       "      <td>alcohol_reference</td>\n",
       "      <td>0.022600</td>\n",
       "    </tr>\n",
       "    <tr>\n",
       "      <th>1</th>\n",
       "      <td>animated_blood</td>\n",
       "      <td>0.005049</td>\n",
       "    </tr>\n",
       "    <tr>\n",
       "      <th>2</th>\n",
       "      <td>blood</td>\n",
       "      <td>0.113350</td>\n",
       "    </tr>\n",
       "    <tr>\n",
       "      <th>3</th>\n",
       "      <td>blood_and_gore</td>\n",
       "      <td>0.116836</td>\n",
       "    </tr>\n",
       "    <tr>\n",
       "      <th>4</th>\n",
       "      <td>cartoon_violence</td>\n",
       "      <td>0.014224</td>\n",
       "    </tr>\n",
       "    <tr>\n",
       "      <th>5</th>\n",
       "      <td>crude_humor</td>\n",
       "      <td>0.022896</td>\n",
       "    </tr>\n",
       "    <tr>\n",
       "      <th>6</th>\n",
       "      <td>drug_reference</td>\n",
       "      <td>0.010630</td>\n",
       "    </tr>\n",
       "    <tr>\n",
       "      <th>7</th>\n",
       "      <td>fantasy_violence</td>\n",
       "      <td>0.101056</td>\n",
       "    </tr>\n",
       "    <tr>\n",
       "      <th>8</th>\n",
       "      <td>intense_violence</td>\n",
       "      <td>0.032539</td>\n",
       "    </tr>\n",
       "    <tr>\n",
       "      <th>9</th>\n",
       "      <td>language</td>\n",
       "      <td>0.026707</td>\n",
       "    </tr>\n",
       "    <tr>\n",
       "      <th>10</th>\n",
       "      <td>lyrics</td>\n",
       "      <td>0.010469</td>\n",
       "    </tr>\n",
       "    <tr>\n",
       "      <th>11</th>\n",
       "      <td>mature_humor</td>\n",
       "      <td>0.005559</td>\n",
       "    </tr>\n",
       "    <tr>\n",
       "      <th>12</th>\n",
       "      <td>mild_blood</td>\n",
       "      <td>0.018117</td>\n",
       "    </tr>\n",
       "    <tr>\n",
       "      <th>13</th>\n",
       "      <td>mild_cartoon_violence</td>\n",
       "      <td>0.018608</td>\n",
       "    </tr>\n",
       "    <tr>\n",
       "      <th>14</th>\n",
       "      <td>mild_fantasy_violence</td>\n",
       "      <td>0.066766</td>\n",
       "    </tr>\n",
       "    <tr>\n",
       "      <th>15</th>\n",
       "      <td>mild_language</td>\n",
       "      <td>0.011869</td>\n",
       "    </tr>\n",
       "    <tr>\n",
       "      <th>16</th>\n",
       "      <td>mild_lyrics</td>\n",
       "      <td>0.017572</td>\n",
       "    </tr>\n",
       "    <tr>\n",
       "      <th>17</th>\n",
       "      <td>mild_suggestive_themes</td>\n",
       "      <td>0.016147</td>\n",
       "    </tr>\n",
       "    <tr>\n",
       "      <th>18</th>\n",
       "      <td>mild_violence</td>\n",
       "      <td>0.020907</td>\n",
       "    </tr>\n",
       "    <tr>\n",
       "      <th>19</th>\n",
       "      <td>nudity</td>\n",
       "      <td>0.005431</td>\n",
       "    </tr>\n",
       "    <tr>\n",
       "      <th>20</th>\n",
       "      <td>partial_nudity</td>\n",
       "      <td>0.008866</td>\n",
       "    </tr>\n",
       "    <tr>\n",
       "      <th>21</th>\n",
       "      <td>sexual_content</td>\n",
       "      <td>0.009657</td>\n",
       "    </tr>\n",
       "    <tr>\n",
       "      <th>22</th>\n",
       "      <td>sexual_themes</td>\n",
       "      <td>0.029175</td>\n",
       "    </tr>\n",
       "    <tr>\n",
       "      <th>23</th>\n",
       "      <td>simulated_gambling</td>\n",
       "      <td>0.024368</td>\n",
       "    </tr>\n",
       "    <tr>\n",
       "      <th>24</th>\n",
       "      <td>strong_language</td>\n",
       "      <td>0.156444</td>\n",
       "    </tr>\n",
       "    <tr>\n",
       "      <th>25</th>\n",
       "      <td>strong_sexual_content</td>\n",
       "      <td>0.029030</td>\n",
       "    </tr>\n",
       "    <tr>\n",
       "      <th>26</th>\n",
       "      <td>suggestive_themes</td>\n",
       "      <td>0.037690</td>\n",
       "    </tr>\n",
       "    <tr>\n",
       "      <th>27</th>\n",
       "      <td>use_of_alcohol</td>\n",
       "      <td>0.008475</td>\n",
       "    </tr>\n",
       "    <tr>\n",
       "      <th>28</th>\n",
       "      <td>use_of_drugs_and_alcohol</td>\n",
       "      <td>0.004391</td>\n",
       "    </tr>\n",
       "    <tr>\n",
       "      <th>29</th>\n",
       "      <td>violence</td>\n",
       "      <td>0.034572</td>\n",
       "    </tr>\n",
       "  </tbody>\n",
       "</table>\n",
       "</div>"
      ],
      "text/plain": [
       "                    features  importance\n",
       "0          alcohol_reference    0.022600\n",
       "1             animated_blood    0.005049\n",
       "2                      blood    0.113350\n",
       "3             blood_and_gore    0.116836\n",
       "4           cartoon_violence    0.014224\n",
       "5                crude_humor    0.022896\n",
       "6             drug_reference    0.010630\n",
       "7           fantasy_violence    0.101056\n",
       "8           intense_violence    0.032539\n",
       "9                   language    0.026707\n",
       "10                    lyrics    0.010469\n",
       "11              mature_humor    0.005559\n",
       "12                mild_blood    0.018117\n",
       "13     mild_cartoon_violence    0.018608\n",
       "14     mild_fantasy_violence    0.066766\n",
       "15             mild_language    0.011869\n",
       "16               mild_lyrics    0.017572\n",
       "17    mild_suggestive_themes    0.016147\n",
       "18             mild_violence    0.020907\n",
       "19                    nudity    0.005431\n",
       "20            partial_nudity    0.008866\n",
       "21            sexual_content    0.009657\n",
       "22             sexual_themes    0.029175\n",
       "23        simulated_gambling    0.024368\n",
       "24           strong_language    0.156444\n",
       "25     strong_sexual_content    0.029030\n",
       "26         suggestive_themes    0.037690\n",
       "27            use_of_alcohol    0.008475\n",
       "28  use_of_drugs_and_alcohol    0.004391\n",
       "29                  violence    0.034572"
      ]
     },
     "execution_count": 47,
     "metadata": {},
     "output_type": "execute_result"
    }
   ],
   "source": [
    "rfc_importance_df"
   ]
  },
  {
   "cell_type": "code",
   "execution_count": 48,
   "id": "f185d7a6",
   "metadata": {},
   "outputs": [
    {
     "data": {
      "image/png": "[encoded data removed]",
      "text/plain": [
       "<Figure size 1440x720 with 1 Axes>"
      ]
     },
     "metadata": {
      "needs_background": "light"
     },
     "output_type": "display_data"
    }
   ],
   "source": [
    "plt.figure(figsize=(20, 10))\n",
    "plt.bar(x=rfc_importance_df['features'], height=rfc_importance_df['importance'], color='#087E8B')\n",
    "plt.title('Feature importances obtained from coefficients', size=20)\n",
    "plt.xticks(rotation='vertical')\n",
    "plt.show()"
   ]
  },
  {
   "cell_type": "code",
   "execution_count": 49,
   "id": "6896f5e1",
   "metadata": {},
   "outputs": [
    {
     "name": "stdout",
     "output_type": "stream",
     "text": [
      "(1179, 5) (394, 5) (1179,) (394,)\n"
     ]
    }
   ],
   "source": [
    "ESRB_filtered_RFC = ESRB_df.filter(['mature_humor','intense_violence','simulated_gambling','blood_and_gore','violence','esrb_rating'])\n",
    "\n",
    "RFC_ESRB_filtered_y = ESRB_filtered_RFC['esrb_rating']\n",
    "RFC_ESRB_filtered_X = ESRB_filtered_RFC.drop(columns = ['esrb_rating'])\n",
    "\n",
    "RFC_Filtered_X_Train, RFC_Filtered_X_Test, RFC_Filtered_y_train, RFC_Filtered_y_test = train_test_split(RFC_ESRB_filtered_X, RFC_ESRB_filtered_y, test_size = 0.25, random_state = 42)\n",
    "\n",
    "print(RFC_Filtered_X_Train.shape, RFC_Filtered_X_Test.shape, RFC_Filtered_y_train.shape, RFC_Filtered_y_test.shape)\n"
   ]
  },
  {
   "cell_type": "code",
   "execution_count": 50,
   "id": "285bfce1",
   "metadata": {},
   "outputs": [
    {
     "name": "stdout",
     "output_type": "stream",
     "text": [
      "Model accuracy score: 0.52\n"
     ]
    }
   ],
   "source": [
    "filtered_rfc = RFC_Tuned.fit(RFC_Filtered_X_Train, RFC_Filtered_y_train)\n",
    "rfc_filtered_test_pred = filtered_rfc.predict(RFC_Filtered_X_Test)\n",
    "print('Model accuracy score: {0:0.2f}'. format(accuracy_score(RFC_Filtered_y_test, rfc_filtered_test_pred)))"
   ]
  },
  {
   "cell_type": "markdown",
   "id": "9bd8a329",
   "metadata": {},
   "source": [
    "Part 3: XGBoost"
   ]
  },
  {
   "cell_type": "code",
   "execution_count": 136,
   "id": "f03ae9f9",
   "metadata": {},
   "outputs": [
    {
     "name": "stdout",
     "output_type": "stream",
     "text": [
      "(1179, 30) (394, 30) (1179, 1) (394, 1)\n"
     ]
    }
   ],
   "source": [
    "import xgboost as xgb\n",
    "from sklearn.metrics import mean_squared_error\n",
    "\n",
    "O = OrdinalEncoder()\n",
    "ESRB_y = pd.DataFrame(O.fit_transform(np.array(ESRB_df['esrb_rating']).reshape(-1,1)))\n",
    "ESRB_X = ESRB_df.drop(columns=['esrb_rating'])\n",
    "\n",
    "XG_X_Train, XG_X_Test, XG_Y_Train, XG_Y_Test = train_test_split(ESRB_X, ESRB_y, test_size = .25, random_state = 42)\n",
    "\n",
    "print(XG_X_Train.shape, XG_X_Test.shape, XG_Y_Train.shape, XG_Y_Test.shape)"
   ]
  },
  {
   "cell_type": "code",
   "execution_count": 138,
   "id": "c769ce9f",
   "metadata": {},
   "outputs": [
    {
     "name": "stdout",
     "output_type": "stream",
     "text": [
      "Train model accuracy score: 0.92\n",
      "Test model accuracy score: 0.82\n"
     ]
    }
   ],
   "source": [
    "xgb_cl = xgb.XGBClassifier()\n",
    "\n",
    "# Fit\n",
    "xgb_cl.fit(XG_X_Train, XG_Y_Train)\n",
    "\n",
    "# Predict\n",
    "preds_t = xgb_cl.predict(XG_X_Train)\n",
    "preds = xgb_cl.predict(XG_X_Test)\n",
    "\n",
    "# Score\n",
    "print('Train model accuracy score: {0:0.2f}'. format(accuracy_score(XG_Y_Train, preds_t)))\n",
    "print('Test model accuracy score: {0:0.2f}'. format(accuracy_score(XG_Y_Test, preds)))"
   ]
  },
  {
   "cell_type": "code",
   "execution_count": 99,
   "id": "5cef63c8",
   "metadata": {},
   "outputs": [],
   "source": [
    "param_grid = {\n",
    "    \"max_depth\": [5, 10, 15, 20],\n",
    "    \"learning_rate\": [0.1, 0.01, 0.05, 0.2],\n",
    "    \"gamma\": [0, 0.25, 0.5, 0.75, 1],\n",
    "    \"reg_lambda\": [0, 1, 10],\n",
    "    \"subsample\": [0.8],\n",
    "    \"colsample_bytree\": [0.5],\n",
    "    \"importance_type\":['gain','entropy']\n",
    "}"
   ]
  },
  {
   "cell_type": "code",
   "execution_count": 100,
   "id": "5ba9762c",
   "metadata": {},
   "outputs": [],
   "source": [
    "XGB_grid = GridSearchCV(xgb_cl, param_grid, n_jobs = -1, cv = 5)"
   ]
  },
  {
   "cell_type": "code",
   "execution_count": 101,
   "id": "cdc48af9",
   "metadata": {},
   "outputs": [],
   "source": [
    "Best_XGB = XGB_grid.fit(XG_X_Train, XG_Y_Train)"
   ]
  },
  {
   "cell_type": "code",
   "execution_count": 102,
   "id": "b078744f",
   "metadata": {},
   "outputs": [
    {
     "data": {
      "text/plain": [
       "{'colsample_bytree': 0.5,\n",
       " 'gamma': 0,\n",
       " 'importance_type': 'gain',\n",
       " 'learning_rate': 0.2,\n",
       " 'max_depth': 10,\n",
       " 'reg_lambda': 0,\n",
       " 'subsample': 0.8}"
      ]
     },
     "execution_count": 102,
     "metadata": {},
     "output_type": "execute_result"
    }
   ],
   "source": [
    "Best_XGB.best_params_"
   ]
  },
  {
   "cell_type": "code",
   "execution_count": 140,
   "id": "06db85c6",
   "metadata": {},
   "outputs": [],
   "source": [
    "Final_XGB = xgb.XGBClassifier(colsample_bytree = 0.5, gamma = 0, importance_type = 'gain', learning_rate = 0.2, max_depth = 10, reg_lambda = 0, subsample = 0.8)"
   ]
  },
  {
   "cell_type": "code",
   "execution_count": 141,
   "id": "223d61f5",
   "metadata": {},
   "outputs": [
    {
     "data": {
      "text/html": [
       "<style>#sk-container-id-6 {color: black;background-color: white;}#sk-container-id-6 pre{padding: 0;}#sk-container-id-6 div.sk-toggleable {background-color: white;}#sk-container-id-6 label.sk-toggleable__label {cursor: pointer;display: block;width: 100%;margin-bottom: 0;padding: 0.3em;box-sizing: border-box;text-align: center;}#sk-container-id-6 label.sk-toggleable__label-arrow:before {content: \"▸\";float: left;margin-right: 0.25em;color: #696969;}#sk-container-id-6 label.sk-toggleable__label-arrow:hover:before {color: black;}#sk-container-id-6 div.sk-estimator:hover label.sk-toggleable__label-arrow:before {color: black;}#sk-container-id-6 div.sk-toggleable__content {max-height: 0;max-width: 0;overflow: hidden;text-align: left;background-color: #f0f8ff;}#sk-container-id-6 div.sk-toggleable__content pre {margin: 0.2em;color: black;border-radius: 0.25em;background-color: #f0f8ff;}#sk-container-id-6 input.sk-toggleable__control:checked~div.sk-toggleable__content {max-height: 200px;max-width: 100%;overflow: auto;}#sk-container-id-6 input.sk-toggleable__control:checked~label.sk-toggleable__label-arrow:before {content: \"▾\";}#sk-container-id-6 div.sk-estimator input.sk-toggleable__control:checked~label.sk-toggleable__label {background-color: #d4ebff;}#sk-container-id-6 div.sk-label input.sk-toggleable__control:checked~label.sk-toggleable__label {background-color: #d4ebff;}#sk-container-id-6 input.sk-hidden--visually {border: 0;clip: rect(1px 1px 1px 1px);clip: rect(1px, 1px, 1px, 1px);height: 1px;margin: -1px;overflow: hidden;padding: 0;position: absolute;width: 1px;}#sk-container-id-6 div.sk-estimator {font-family: monospace;background-color: #f0f8ff;border: 1px dotted black;border-radius: 0.25em;box-sizing: border-box;margin-bottom: 0.5em;}#sk-container-id-6 div.sk-estimator:hover {background-color: #d4ebff;}#sk-container-id-6 div.sk-parallel-item::after {content: \"\";width: 100%;border-bottom: 1px solid gray;flex-grow: 1;}#sk-container-id-6 div.sk-label:hover label.sk-toggleable__label {background-color: #d4ebff;}#sk-container-id-6 div.sk-serial::before {content: \"\";position: absolute;border-left: 1px solid gray;box-sizing: border-box;top: 0;bottom: 0;left: 50%;z-index: 0;}#sk-container-id-6 div.sk-serial {display: flex;flex-direction: column;align-items: center;background-color: white;padding-right: 0.2em;padding-left: 0.2em;position: relative;}#sk-container-id-6 div.sk-item {position: relative;z-index: 1;}#sk-container-id-6 div.sk-parallel {display: flex;align-items: stretch;justify-content: center;background-color: white;position: relative;}#sk-container-id-6 div.sk-item::before, #sk-container-id-6 div.sk-parallel-item::before {content: \"\";position: absolute;border-left: 1px solid gray;box-sizing: border-box;top: 0;bottom: 0;left: 50%;z-index: -1;}#sk-container-id-6 div.sk-parallel-item {display: flex;flex-direction: column;z-index: 1;position: relative;background-color: white;}#sk-container-id-6 div.sk-parallel-item:first-child::after {align-self: flex-end;width: 50%;}#sk-container-id-6 div.sk-parallel-item:last-child::after {align-self: flex-start;width: 50%;}#sk-container-id-6 div.sk-parallel-item:only-child::after {width: 0;}#sk-container-id-6 div.sk-dashed-wrapped {border: 1px dashed gray;margin: 0 0.4em 0.5em 0.4em;box-sizing: border-box;padding-bottom: 0.4em;background-color: white;}#sk-container-id-6 div.sk-label label {font-family: monospace;font-weight: bold;display: inline-block;line-height: 1.2em;}#sk-container-id-6 div.sk-label-container {text-align: center;}#sk-container-id-6 div.sk-container {/* jupyter's `normalize.less` sets `[hidden] { display: none; }` but bootstrap.min.css set `[hidden] { display: none !important; }` so we also need the `!important` here to be able to override the default hidden behavior on the sphinx rendered scikit-learn.org. See: https://github.com/scikit-learn/scikit-learn/issues/21755 */display: inline-block !important;position: relative;}#sk-container-id-6 div.sk-text-repr-fallback {display: none;}</style><div id=\"sk-container-id-6\" class=\"sk-top-container\"><div class=\"sk-text-repr-fallback\"><pre>XGBClassifier(base_score=0.5, booster=&#x27;gbtree&#x27;, callbacks=None,\n",
       "              colsample_bylevel=1, colsample_bynode=1, colsample_bytree=0.5,\n",
       "              early_stopping_rounds=None, enable_categorical=False,\n",
       "              eval_metric=None, gamma=0, gpu_id=-1, grow_policy=&#x27;depthwise&#x27;,\n",
       "              importance_type=&#x27;gain&#x27;, interaction_constraints=&#x27;&#x27;,\n",
       "              learning_rate=0.2, max_bin=256, max_cat_to_onehot=4,\n",
       "              max_delta_step=0, max_depth=10, max_leaves=0, min_child_weight=1,\n",
       "              missing=nan, monotone_constraints=&#x27;()&#x27;, n_estimators=100,\n",
       "              n_jobs=0, num_parallel_tree=1, objective=&#x27;multi:softprob&#x27;,\n",
       "              predictor=&#x27;auto&#x27;, random_state=0, reg_alpha=0, ...)</pre><b>In a Jupyter environment, please rerun this cell to show the HTML representation or trust the notebook. <br />On GitHub, the HTML representation is unable to render, please try loading this page with nbviewer.org.</b></div><div class=\"sk-container\" hidden><div class=\"sk-item\"><div class=\"sk-estimator sk-toggleable\"><input class=\"sk-toggleable__control sk-hidden--visually\" id=\"sk-estimator-id-6\" type=\"checkbox\" checked><label for=\"sk-estimator-id-6\" class=\"sk-toggleable__label sk-toggleable__label-arrow\">XGBClassifier</label><div class=\"sk-toggleable__content\"><pre>XGBClassifier(base_score=0.5, booster=&#x27;gbtree&#x27;, callbacks=None,\n",
       "              colsample_bylevel=1, colsample_bynode=1, colsample_bytree=0.5,\n",
       "              early_stopping_rounds=None, enable_categorical=False,\n",
       "              eval_metric=None, gamma=0, gpu_id=-1, grow_policy=&#x27;depthwise&#x27;,\n",
       "              importance_type=&#x27;gain&#x27;, interaction_constraints=&#x27;&#x27;,\n",
       "              learning_rate=0.2, max_bin=256, max_cat_to_onehot=4,\n",
       "              max_delta_step=0, max_depth=10, max_leaves=0, min_child_weight=1,\n",
       "              missing=nan, monotone_constraints=&#x27;()&#x27;, n_estimators=100,\n",
       "              n_jobs=0, num_parallel_tree=1, objective=&#x27;multi:softprob&#x27;,\n",
       "              predictor=&#x27;auto&#x27;, random_state=0, reg_alpha=0, ...)</pre></div></div></div></div></div>"
      ],
      "text/plain": [
       "XGBClassifier(base_score=0.5, booster='gbtree', callbacks=None,\n",
       "              colsample_bylevel=1, colsample_bynode=1, colsample_bytree=0.5,\n",
       "              early_stopping_rounds=None, enable_categorical=False,\n",
       "              eval_metric=None, gamma=0, gpu_id=-1, grow_policy='depthwise',\n",
       "              importance_type='gain', interaction_constraints='',\n",
       "              learning_rate=0.2, max_bin=256, max_cat_to_onehot=4,\n",
       "              max_delta_step=0, max_depth=10, max_leaves=0, min_child_weight=1,\n",
       "              missing=nan, monotone_constraints='()', n_estimators=100,\n",
       "              n_jobs=0, num_parallel_tree=1, objective='multi:softprob',\n",
       "              predictor='auto', random_state=0, reg_alpha=0, ...)"
      ]
     },
     "execution_count": 141,
     "metadata": {},
     "output_type": "execute_result"
    }
   ],
   "source": [
    "Final_XGB.fit(XG_X_Train, XG_Y_Train)"
   ]
  },
  {
   "cell_type": "code",
   "execution_count": 142,
   "id": "bef635ce",
   "metadata": {},
   "outputs": [
    {
     "name": "stdout",
     "output_type": "stream",
     "text": [
      "Train model accuracy score: 0.91\n",
      "Test model accuracy score: 0.82\n"
     ]
    }
   ],
   "source": [
    "# Predict\n",
    "preds_t = Final_XGB.predict(XG_X_Train)\n",
    "preds = Final_XGB.predict(XG_X_Test)\n",
    "\n",
    "# Score\n",
    "print('Train model accuracy score: {0:0.2f}'. format(accuracy_score(XG_Y_Train, preds_t)))\n",
    "print('Test model accuracy score: {0:0.2f}'. format(accuracy_score(XG_Y_Test, preds)))"
   ]
  },
  {
   "cell_type": "code",
   "execution_count": 143,
   "id": "abc07980",
   "metadata": {},
   "outputs": [
    {
     "data": {
      "text/plain": [
       "<Figure size 2880x1440 with 0 Axes>"
      ]
     },
     "metadata": {},
     "output_type": "display_data"
    },
    {
     "data": {
      "image/png": "[encoded data removed]",
      "text/plain": [
       "<Figure size 1440x1440 with 1 Axes>"
      ]
     },
     "metadata": {
      "needs_background": "light"
     },
     "output_type": "display_data"
    }
   ],
   "source": [
    "plt.figure(figsize=(40,20))\n",
    "xgb.plot_importance(Final_XGB)\n",
    "plt.rcParams[\"figure.figsize\"] = (20,20)"
   ]
  },
  {
   "cell_type": "code",
   "execution_count": 144,
   "id": "6d840257",
   "metadata": {},
   "outputs": [
    {
     "data": {
      "text/html": [
       "<div>\n",
       "<style scoped>\n",
       "    .dataframe tbody tr th:only-of-type {\n",
       "        vertical-align: middle;\n",
       "    }\n",
       "\n",
       "    .dataframe tbody tr th {\n",
       "        vertical-align: top;\n",
       "    }\n",
       "\n",
       "    .dataframe thead th {\n",
       "        text-align: right;\n",
       "    }\n",
       "</style>\n",
       "<table border=\"1\" class=\"dataframe\">\n",
       "  <thead>\n",
       "    <tr style=\"text-align: right;\">\n",
       "      <th></th>\n",
       "      <th>fantasy_violence</th>\n",
       "      <th>blood_and_gore</th>\n",
       "      <th>mild_suggestive_themes</th>\n",
       "      <th>blood</th>\n",
       "      <th>alcohol_reference</th>\n",
       "      <th>mild_lyrics</th>\n",
       "      <th>mild_blood</th>\n",
       "      <th>suggestive_themes</th>\n",
       "      <th>language</th>\n",
       "      <th>intense_violence</th>\n",
       "      <th>esrb_rating</th>\n",
       "    </tr>\n",
       "  </thead>\n",
       "  <tbody>\n",
       "    <tr>\n",
       "      <th>1</th>\n",
       "      <td>0</td>\n",
       "      <td>0</td>\n",
       "      <td>1</td>\n",
       "      <td>0</td>\n",
       "      <td>0</td>\n",
       "      <td>0</td>\n",
       "      <td>0</td>\n",
       "      <td>0</td>\n",
       "      <td>0</td>\n",
       "      <td>1</td>\n",
       "      <td>ET</td>\n",
       "    </tr>\n",
       "    <tr>\n",
       "      <th>2</th>\n",
       "      <td>0</td>\n",
       "      <td>0</td>\n",
       "      <td>0</td>\n",
       "      <td>1</td>\n",
       "      <td>0</td>\n",
       "      <td>0</td>\n",
       "      <td>0</td>\n",
       "      <td>1</td>\n",
       "      <td>0</td>\n",
       "      <td>0</td>\n",
       "      <td>M</td>\n",
       "    </tr>\n",
       "    <tr>\n",
       "      <th>3</th>\n",
       "      <td>1</td>\n",
       "      <td>0</td>\n",
       "      <td>0</td>\n",
       "      <td>0</td>\n",
       "      <td>0</td>\n",
       "      <td>0</td>\n",
       "      <td>1</td>\n",
       "      <td>0</td>\n",
       "      <td>1</td>\n",
       "      <td>0</td>\n",
       "      <td>ET</td>\n",
       "    </tr>\n",
       "    <tr>\n",
       "      <th>4</th>\n",
       "      <td>1</td>\n",
       "      <td>0</td>\n",
       "      <td>0</td>\n",
       "      <td>0</td>\n",
       "      <td>0</td>\n",
       "      <td>0</td>\n",
       "      <td>0</td>\n",
       "      <td>1</td>\n",
       "      <td>1</td>\n",
       "      <td>0</td>\n",
       "      <td>T</td>\n",
       "    </tr>\n",
       "    <tr>\n",
       "      <th>6</th>\n",
       "      <td>0</td>\n",
       "      <td>0</td>\n",
       "      <td>0</td>\n",
       "      <td>1</td>\n",
       "      <td>0</td>\n",
       "      <td>0</td>\n",
       "      <td>0</td>\n",
       "      <td>0</td>\n",
       "      <td>0</td>\n",
       "      <td>1</td>\n",
       "      <td>T</td>\n",
       "    </tr>\n",
       "    <tr>\n",
       "      <th>...</th>\n",
       "      <td>...</td>\n",
       "      <td>...</td>\n",
       "      <td>...</td>\n",
       "      <td>...</td>\n",
       "      <td>...</td>\n",
       "      <td>...</td>\n",
       "      <td>...</td>\n",
       "      <td>...</td>\n",
       "      <td>...</td>\n",
       "      <td>...</td>\n",
       "      <td>...</td>\n",
       "    </tr>\n",
       "    <tr>\n",
       "      <th>1887</th>\n",
       "      <td>0</td>\n",
       "      <td>0</td>\n",
       "      <td>0</td>\n",
       "      <td>0</td>\n",
       "      <td>0</td>\n",
       "      <td>0</td>\n",
       "      <td>0</td>\n",
       "      <td>0</td>\n",
       "      <td>0</td>\n",
       "      <td>0</td>\n",
       "      <td>T</td>\n",
       "    </tr>\n",
       "    <tr>\n",
       "      <th>1889</th>\n",
       "      <td>0</td>\n",
       "      <td>0</td>\n",
       "      <td>1</td>\n",
       "      <td>0</td>\n",
       "      <td>1</td>\n",
       "      <td>0</td>\n",
       "      <td>0</td>\n",
       "      <td>0</td>\n",
       "      <td>0</td>\n",
       "      <td>1</td>\n",
       "      <td>ET</td>\n",
       "    </tr>\n",
       "    <tr>\n",
       "      <th>1890</th>\n",
       "      <td>1</td>\n",
       "      <td>0</td>\n",
       "      <td>0</td>\n",
       "      <td>0</td>\n",
       "      <td>0</td>\n",
       "      <td>0</td>\n",
       "      <td>0</td>\n",
       "      <td>0</td>\n",
       "      <td>0</td>\n",
       "      <td>0</td>\n",
       "      <td>M</td>\n",
       "    </tr>\n",
       "    <tr>\n",
       "      <th>1891</th>\n",
       "      <td>1</td>\n",
       "      <td>0</td>\n",
       "      <td>0</td>\n",
       "      <td>0</td>\n",
       "      <td>0</td>\n",
       "      <td>0</td>\n",
       "      <td>0</td>\n",
       "      <td>0</td>\n",
       "      <td>1</td>\n",
       "      <td>0</td>\n",
       "      <td>T</td>\n",
       "    </tr>\n",
       "    <tr>\n",
       "      <th>1893</th>\n",
       "      <td>0</td>\n",
       "      <td>0</td>\n",
       "      <td>0</td>\n",
       "      <td>1</td>\n",
       "      <td>0</td>\n",
       "      <td>0</td>\n",
       "      <td>0</td>\n",
       "      <td>0</td>\n",
       "      <td>0</td>\n",
       "      <td>0</td>\n",
       "      <td>T</td>\n",
       "    </tr>\n",
       "  </tbody>\n",
       "</table>\n",
       "<p>1573 rows × 11 columns</p>\n",
       "</div>"
      ],
      "text/plain": [
       "      fantasy_violence  blood_and_gore  mild_suggestive_themes  blood  \\\n",
       "1                    0               0                       1      0   \n",
       "2                    0               0                       0      1   \n",
       "3                    1               0                       0      0   \n",
       "4                    1               0                       0      0   \n",
       "6                    0               0                       0      1   \n",
       "...                ...             ...                     ...    ...   \n",
       "1887                 0               0                       0      0   \n",
       "1889                 0               0                       1      0   \n",
       "1890                 1               0                       0      0   \n",
       "1891                 1               0                       0      0   \n",
       "1893                 0               0                       0      1   \n",
       "\n",
       "      alcohol_reference  mild_lyrics  mild_blood  suggestive_themes  language  \\\n",
       "1                     0            0           0                  0         0   \n",
       "2                     0            0           0                  1         0   \n",
       "3                     0            0           1                  0         1   \n",
       "4                     0            0           0                  1         1   \n",
       "6                     0            0           0                  0         0   \n",
       "...                 ...          ...         ...                ...       ...   \n",
       "1887                  0            0           0                  0         0   \n",
       "1889                  1            0           0                  0         0   \n",
       "1890                  0            0           0                  0         0   \n",
       "1891                  0            0           0                  0         1   \n",
       "1893                  0            0           0                  0         0   \n",
       "\n",
       "      intense_violence esrb_rating  \n",
       "1                    1          ET  \n",
       "2                    0           M  \n",
       "3                    0          ET  \n",
       "4                    0           T  \n",
       "6                    1           T  \n",
       "...                ...         ...  \n",
       "1887                 0           T  \n",
       "1889                 1          ET  \n",
       "1890                 0           M  \n",
       "1891                 0           T  \n",
       "1893                 0           T  \n",
       "\n",
       "[1573 rows x 11 columns]"
      ]
     },
     "execution_count": 144,
     "metadata": {},
     "output_type": "execute_result"
    }
   ],
   "source": [
    "ESRB_XG_filtered = ESRB_df.filter(['fantasy_violence', 'blood_and_gore','mild_suggestive_themes','blood','alcohol_reference','mild_lyrics','mild_blood','suggestive_themes','language','intense_violence','esrb_rating'])\n",
    "ESRB_XG_filtered"
   ]
  },
  {
   "cell_type": "code",
   "execution_count": 145,
   "id": "43cd0b1c",
   "metadata": {},
   "outputs": [],
   "source": [
    "ESRB_filtered_y = pd.DataFrame(O.fit_transform(np.array(ESRB_XG_filtered['esrb_rating']).reshape(-1,1)))\n",
    "ESRB_filtered_X = ESRB_XG_filtered.drop(columns=['esrb_rating'])\n",
    "\n",
    "XG_X_Train, XG_X_Test, XG_Y_Train, XG_Y_Test = train_test_split(ESRB_filtered_X, ESRB_filtered_y, test_size = .25, random_state = 42)"
   ]
  },
  {
   "cell_type": "code",
   "execution_count": 146,
   "id": "545108b9",
   "metadata": {},
   "outputs": [
    {
     "data": {
      "text/html": [
       "<div>\n",
       "<style scoped>\n",
       "    .dataframe tbody tr th:only-of-type {\n",
       "        vertical-align: middle;\n",
       "    }\n",
       "\n",
       "    .dataframe tbody tr th {\n",
       "        vertical-align: top;\n",
       "    }\n",
       "\n",
       "    .dataframe thead th {\n",
       "        text-align: right;\n",
       "    }\n",
       "</style>\n",
       "<table border=\"1\" class=\"dataframe\">\n",
       "  <thead>\n",
       "    <tr style=\"text-align: right;\">\n",
       "      <th></th>\n",
       "      <th>fantasy_violence</th>\n",
       "      <th>blood_and_gore</th>\n",
       "      <th>mild_suggestive_themes</th>\n",
       "      <th>blood</th>\n",
       "      <th>alcohol_reference</th>\n",
       "      <th>mild_lyrics</th>\n",
       "      <th>mild_blood</th>\n",
       "      <th>suggestive_themes</th>\n",
       "      <th>language</th>\n",
       "      <th>intense_violence</th>\n",
       "    </tr>\n",
       "  </thead>\n",
       "  <tbody>\n",
       "    <tr>\n",
       "      <th>1320</th>\n",
       "      <td>0</td>\n",
       "      <td>0</td>\n",
       "      <td>0</td>\n",
       "      <td>0</td>\n",
       "      <td>0</td>\n",
       "      <td>0</td>\n",
       "      <td>0</td>\n",
       "      <td>0</td>\n",
       "      <td>0</td>\n",
       "      <td>0</td>\n",
       "    </tr>\n",
       "    <tr>\n",
       "      <th>1787</th>\n",
       "      <td>0</td>\n",
       "      <td>0</td>\n",
       "      <td>0</td>\n",
       "      <td>1</td>\n",
       "      <td>0</td>\n",
       "      <td>0</td>\n",
       "      <td>0</td>\n",
       "      <td>0</td>\n",
       "      <td>0</td>\n",
       "      <td>0</td>\n",
       "    </tr>\n",
       "    <tr>\n",
       "      <th>438</th>\n",
       "      <td>1</td>\n",
       "      <td>0</td>\n",
       "      <td>0</td>\n",
       "      <td>0</td>\n",
       "      <td>0</td>\n",
       "      <td>0</td>\n",
       "      <td>0</td>\n",
       "      <td>0</td>\n",
       "      <td>0</td>\n",
       "      <td>0</td>\n",
       "    </tr>\n",
       "    <tr>\n",
       "      <th>325</th>\n",
       "      <td>0</td>\n",
       "      <td>1</td>\n",
       "      <td>0</td>\n",
       "      <td>0</td>\n",
       "      <td>0</td>\n",
       "      <td>0</td>\n",
       "      <td>0</td>\n",
       "      <td>1</td>\n",
       "      <td>0</td>\n",
       "      <td>1</td>\n",
       "    </tr>\n",
       "    <tr>\n",
       "      <th>350</th>\n",
       "      <td>0</td>\n",
       "      <td>0</td>\n",
       "      <td>0</td>\n",
       "      <td>0</td>\n",
       "      <td>0</td>\n",
       "      <td>0</td>\n",
       "      <td>0</td>\n",
       "      <td>0</td>\n",
       "      <td>0</td>\n",
       "      <td>0</td>\n",
       "    </tr>\n",
       "    <tr>\n",
       "      <th>...</th>\n",
       "      <td>...</td>\n",
       "      <td>...</td>\n",
       "      <td>...</td>\n",
       "      <td>...</td>\n",
       "      <td>...</td>\n",
       "      <td>...</td>\n",
       "      <td>...</td>\n",
       "      <td>...</td>\n",
       "      <td>...</td>\n",
       "      <td>...</td>\n",
       "    </tr>\n",
       "    <tr>\n",
       "      <th>1349</th>\n",
       "      <td>0</td>\n",
       "      <td>0</td>\n",
       "      <td>0</td>\n",
       "      <td>0</td>\n",
       "      <td>1</td>\n",
       "      <td>0</td>\n",
       "      <td>0</td>\n",
       "      <td>0</td>\n",
       "      <td>0</td>\n",
       "      <td>0</td>\n",
       "    </tr>\n",
       "    <tr>\n",
       "      <th>1545</th>\n",
       "      <td>0</td>\n",
       "      <td>1</td>\n",
       "      <td>0</td>\n",
       "      <td>0</td>\n",
       "      <td>0</td>\n",
       "      <td>0</td>\n",
       "      <td>0</td>\n",
       "      <td>0</td>\n",
       "      <td>1</td>\n",
       "      <td>0</td>\n",
       "    </tr>\n",
       "    <tr>\n",
       "      <th>1021</th>\n",
       "      <td>1</td>\n",
       "      <td>0</td>\n",
       "      <td>0</td>\n",
       "      <td>0</td>\n",
       "      <td>0</td>\n",
       "      <td>0</td>\n",
       "      <td>0</td>\n",
       "      <td>0</td>\n",
       "      <td>0</td>\n",
       "      <td>0</td>\n",
       "    </tr>\n",
       "    <tr>\n",
       "      <th>1749</th>\n",
       "      <td>0</td>\n",
       "      <td>0</td>\n",
       "      <td>0</td>\n",
       "      <td>1</td>\n",
       "      <td>0</td>\n",
       "      <td>0</td>\n",
       "      <td>0</td>\n",
       "      <td>0</td>\n",
       "      <td>0</td>\n",
       "      <td>0</td>\n",
       "    </tr>\n",
       "    <tr>\n",
       "      <th>1344</th>\n",
       "      <td>0</td>\n",
       "      <td>0</td>\n",
       "      <td>0</td>\n",
       "      <td>0</td>\n",
       "      <td>0</td>\n",
       "      <td>0</td>\n",
       "      <td>0</td>\n",
       "      <td>0</td>\n",
       "      <td>0</td>\n",
       "      <td>0</td>\n",
       "    </tr>\n",
       "  </tbody>\n",
       "</table>\n",
       "<p>1179 rows × 10 columns</p>\n",
       "</div>"
      ],
      "text/plain": [
       "      fantasy_violence  blood_and_gore  mild_suggestive_themes  blood  \\\n",
       "1320                 0               0                       0      0   \n",
       "1787                 0               0                       0      1   \n",
       "438                  1               0                       0      0   \n",
       "325                  0               1                       0      0   \n",
       "350                  0               0                       0      0   \n",
       "...                ...             ...                     ...    ...   \n",
       "1349                 0               0                       0      0   \n",
       "1545                 0               1                       0      0   \n",
       "1021                 1               0                       0      0   \n",
       "1749                 0               0                       0      1   \n",
       "1344                 0               0                       0      0   \n",
       "\n",
       "      alcohol_reference  mild_lyrics  mild_blood  suggestive_themes  language  \\\n",
       "1320                  0            0           0                  0         0   \n",
       "1787                  0            0           0                  0         0   \n",
       "438                   0            0           0                  0         0   \n",
       "325                   0            0           0                  1         0   \n",
       "350                   0            0           0                  0         0   \n",
       "...                 ...          ...         ...                ...       ...   \n",
       "1349                  1            0           0                  0         0   \n",
       "1545                  0            0           0                  0         1   \n",
       "1021                  0            0           0                  0         0   \n",
       "1749                  0            0           0                  0         0   \n",
       "1344                  0            0           0                  0         0   \n",
       "\n",
       "      intense_violence  \n",
       "1320                 0  \n",
       "1787                 0  \n",
       "438                  0  \n",
       "325                  1  \n",
       "350                  0  \n",
       "...                ...  \n",
       "1349                 0  \n",
       "1545                 0  \n",
       "1021                 0  \n",
       "1749                 0  \n",
       "1344                 0  \n",
       "\n",
       "[1179 rows x 10 columns]"
      ]
     },
     "execution_count": 146,
     "metadata": {},
     "output_type": "execute_result"
    }
   ],
   "source": [
    "XG_X_Train"
   ]
  },
  {
   "cell_type": "code",
   "execution_count": 149,
   "id": "9a8c89bf",
   "metadata": {},
   "outputs": [
    {
     "name": "stdout",
     "output_type": "stream",
     "text": [
      "Train model accuracy score: 0.68\n",
      "Test model accuracy score: 0.64\n"
     ]
    }
   ],
   "source": [
    "XGB_Filtered = xgb.XGBClassifier(colsample_bytree = 0.5, gamma = 0, importance_type = 'gain', learning_rate = 0.2, max_depth = 10, reg_lambda = 0, subsample = 0.8)\n",
    "XG1 = XGB_Filtered.fit(XG_X_Train, XG_Y_Train)\n",
    "\n",
    "# Predict\n",
    "preds_t = XG1.predict(XG_X_Train)\n",
    "preds = XG1.predict(XG_X_Test)\n",
    "\n",
    "# Score\n",
    "print('Train model accuracy score: {0:0.2f}'. format(accuracy_score(XG_Y_Train, preds_t)))\n",
    "print('Test model accuracy score: {0:0.2f}'. format(accuracy_score(XG_Y_Test, preds)))"
   ]
  },
  {
   "cell_type": "markdown",
   "id": "22601967",
   "metadata": {},
   "source": [
    "POST ANALYSIS"
   ]
  },
  {
   "cell_type": "code",
   "execution_count": 166,
   "id": "3f9f8031",
   "metadata": {},
   "outputs": [],
   "source": [
    "FV = ESRB_df.filter(['esrb_rating', 'fantasy_violence', 'strong_language', 'blood','blood_and_gore'])\n",
    "y1 = FV[FV['fantasy_violence'] == 1]\n",
    "y2 = FV[FV['strong_language'] == 1]\n",
    "y3 = FV[FV['blood'] == 1]\n",
    "y4 = FV[FV['blood_and_gore'] == 1]"
   ]
  },
  {
   "cell_type": "code",
   "execution_count": 167,
   "id": "b41b033e",
   "metadata": {},
   "outputs": [
    {
     "data": {
      "text/plain": [
       "<AxesSubplot:>"
      ]
     },
     "execution_count": 167,
     "metadata": {},
     "output_type": "execute_result"
    },
    {
     "data": {
      "image/png": "[encoded data removed]",
      "text/plain": [
       "<Figure size 1440x1440 with 1 Axes>"
      ]
     },
     "metadata": {
      "needs_background": "light"
     },
     "output_type": "display_data"
    }
   ],
   "source": [
    "y1['esrb_rating'].value_counts().plot(kind = 'bar')"
   ]
  },
  {
   "cell_type": "code",
   "execution_count": 172,
   "id": "a4c15091",
   "metadata": {},
   "outputs": [
    {
     "data": {
      "text/plain": [
       "M    215\n",
       "T      5\n",
       "Name: esrb_rating, dtype: int64"
      ]
     },
     "execution_count": 172,
     "metadata": {},
     "output_type": "execute_result"
    },
    {
     "data": {
      "image/png": "[encoded data removed]",
      "text/plain": [
       "<Figure size 1440x1440 with 1 Axes>"
      ]
     },
     "metadata": {
      "needs_background": "light"
     },
     "output_type": "display_data"
    }
   ],
   "source": [
    "y2['esrb_rating'].value_counts().plot(kind = 'bar')\n",
    "y2['esrb_rating'].value_counts()"
   ]
  },
  {
   "cell_type": "code",
   "execution_count": 169,
   "id": "13ed8c22",
   "metadata": {},
   "outputs": [
    {
     "data": {
      "text/plain": [
       "<AxesSubplot:>"
      ]
     },
     "execution_count": 169,
     "metadata": {},
     "output_type": "execute_result"
    },
    {
     "data": {
      "image/png": "[encoded data removed]",
      "text/plain": [
       "<Figure size 1440x1440 with 1 Axes>"
      ]
     },
     "metadata": {
      "needs_background": "light"
     },
     "output_type": "display_data"
    }
   ],
   "source": [
    "y3['esrb_rating'].value_counts().plot(kind = 'bar')"
   ]
  },
  {
   "cell_type": "code",
   "execution_count": 173,
   "id": "5c802ae4",
   "metadata": {},
   "outputs": [
    {
     "data": {
      "text/plain": [
       "<AxesSubplot:>"
      ]
     },
     "execution_count": 173,
     "metadata": {},
     "output_type": "execute_result"
    },
    {
     "data": {
      "image/png": "[encoded data removed]",
      "text/plain": [
       "<Figure size 1440x1440 with 1 Axes>"
      ]
     },
     "metadata": {
      "needs_background": "light"
     },
     "output_type": "display_data"
    }
   ],
   "source": [
    "y4['esrb_rating'].value_counts().plot(kind = 'bar')"
   ]
  },
  {
   "cell_type": "markdown",
   "id": "67cdd632",
   "metadata": {},
   "source": [
    "Final Comments"
   ]
  },
  {
   "cell_type": "markdown",
   "id": "a0e6ee68",
   "metadata": {},
   "source": [
    "It's incredibly difficult to continue to tune a model that will give near 100% accuracy for any tree type on this dataset. In this case, more variables is more accurate because it seems that some variables are heavily weighted in the fact that if they contain ANY of the input variable, the outcome is already predetermined. Therefore it's hard to drop variables. Even then, some of the most heavily weighted variables do contain outliers. \n",
    "\n",
    "The different models all produced differently weighted input variables, which was unique. Even after trimming various variables the accuracy of the models all suffered. Even then, the outcomes were surprising in the fact that the variables which are considered more \"weighty\" at a glance, like nudity, were barely considered in the algorithms. The assumption is made that this is due to the fact there is such a low number of games which contain nudity. We could do endless EDA on this dataset to find more reasons why the model's presented as such, but at some point we have to just make assumptions."
   ]
  }
 ],
 "metadata": {
  "kernelspec": {
   "display_name": "Python 3 (ipykernel)",
   "language": "python",
   "name": "python3"
  },
  "language_info": {
   "codemirror_mode": {
    "name": "ipython",
    "version": 3
   },
   "file_extension": ".py",
   "mimetype": "text/x-python",
   "name": "python",
   "nbconvert_exporter": "python",
   "pygments_lexer": "ipython3",
   "version": "3.9.7"
  }
 },
 "nbformat": 4,
 "nbformat_minor": 5
}
